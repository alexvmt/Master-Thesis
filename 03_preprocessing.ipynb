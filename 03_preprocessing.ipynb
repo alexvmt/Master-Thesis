{
 "cells": [
  {
   "cell_type": "code",
   "execution_count": 1,
   "metadata": {},
   "outputs": [],
   "source": [
    "##### PREPROCESSING #####"
   ]
  },
  {
   "cell_type": "code",
   "execution_count": 2,
   "metadata": {},
   "outputs": [
    {
     "name": "stdout",
     "output_type": "stream",
     "text": [
      "Starting preprocessing...\n"
     ]
    }
   ],
   "source": [
    "print('Starting preprocessing...')"
   ]
  },
  {
   "cell_type": "code",
   "execution_count": 3,
   "metadata": {},
   "outputs": [
    {
     "name": "stdout",
     "output_type": "stream",
     "text": [
      "Start time:  2019-02-23 11:28:12.582979\n"
     ]
    }
   ],
   "source": [
    "### import libraries\n",
    "import pandas as pd\n",
    "import numpy as np\n",
    "from datetime import datetime,date\n",
    "\n",
    "start_time = datetime.now()\n",
    "print('Start time: ', start_time)"
   ]
  },
  {
   "cell_type": "code",
   "execution_count": 4,
   "metadata": {},
   "outputs": [],
   "source": [
    "#### SELECT INPUT AND OUTPUT FILES"
   ]
  },
  {
   "cell_type": "code",
   "execution_count": 5,
   "metadata": {},
   "outputs": [
    {
     "name": "stdout",
     "output_type": "stream",
     "text": [
      "Input file selected:  3_day_sample_aggregated.tsv.gz\n",
      "Output file selected 3_day_sample_preprocessed.tsv.gz\n"
     ]
    }
   ],
   "source": [
    "input_file = '3_day_sample_aggregated.tsv.gz'\n",
    "output_file = '3_day_sample_preprocessed.tsv.gz'\n",
    "#input_file = '6_week_sample_aggregated.tsv.gz'\n",
    "#output_file = '6_week_sample_preprocessed.tsv.gz'\n",
    "#input_file = '12_week_sample_aggregated.tsv.gz'\n",
    "#output_file = '12_week_sample_preprocessed.tsv.gz'\n",
    "#input_file = '25_week_sample_aggregated.tsv.gz'\n",
    "#output_file = '25_week_sample_preprocessed.tsv.gz'\n",
    "\n",
    "print('Input file selected: ', input_file)\n",
    "print('Output file selected', output_file)"
   ]
  },
  {
   "cell_type": "code",
   "execution_count": 6,
   "metadata": {},
   "outputs": [
    {
     "name": "stdout",
     "output_type": "stream",
     "text": [
      "Loading data...\n"
     ]
    }
   ],
   "source": [
    "##### LOAD DATA\n",
    "print('Loading data...')"
   ]
  },
  {
   "cell_type": "code",
   "execution_count": 7,
   "metadata": {},
   "outputs": [
    {
     "name": "stdout",
     "output_type": "stream",
     "text": [
      "Loading data complete.\n"
     ]
    }
   ],
   "source": [
    "df = pd.read_csv('../data/processed_data/'+input_file, compression='gzip', sep='\\t', low_memory=False, encoding='iso-8859-1', parse_dates=['hit_time_gmt', 'last_hit_time_gmt_visit', 'date_time'])\n",
    "\n",
    "print('Loading data complete.')"
   ]
  },
  {
   "cell_type": "code",
   "execution_count": 8,
   "metadata": {},
   "outputs": [
    {
     "name": "stdout",
     "output_type": "stream",
     "text": [
      "Encoding target...\n"
     ]
    }
   ],
   "source": [
    "### ENCODE TARGET\n",
    "print('Encoding target...')"
   ]
  },
  {
   "cell_type": "code",
   "execution_count": 9,
   "metadata": {},
   "outputs": [
    {
     "name": "stdout",
     "output_type": "stream",
     "text": [
      "Encoding target complete.\n"
     ]
    }
   ],
   "source": [
    "# binary encode target to be either 1 or 0\n",
    "df['purchase'] = df['purchase'].apply(lambda x: 1 if x >= 1 else 0)\n",
    "\n",
    "print('Encoding target complete.')"
   ]
  },
  {
   "cell_type": "code",
   "execution_count": 10,
   "metadata": {},
   "outputs": [
    {
     "name": "stdout",
     "output_type": "stream",
     "text": [
      "Encoding categorical features...\n"
     ]
    }
   ],
   "source": [
    "### ENCODE CATEGORICAL FEATURES\n",
    "print('Encoding categorical features...')"
   ]
  },
  {
   "cell_type": "code",
   "execution_count": 11,
   "metadata": {},
   "outputs": [],
   "source": [
    "categorical_cols = ['connection_type',\n",
    "                    'browser',\n",
    "                    'operating_system_generalized',\n",
    "                    'search_engine_generalized',\n",
    "                    'marketing_channel',\n",
    "                    'referrer_type']\n",
    "\n",
    "dummies = pd.get_dummies(df.loc[:, df.columns.isin(categorical_cols)], drop_first=True)\n",
    "df.drop(categorical_cols, axis=1, inplace=True)\n",
    "df = pd.concat([df, dummies], axis=1)"
   ]
  },
  {
   "cell_type": "code",
   "execution_count": 12,
   "metadata": {},
   "outputs": [
    {
     "name": "stdout",
     "output_type": "stream",
     "text": [
      "Writing dataframe to file...\n"
     ]
    }
   ],
   "source": [
    "### WRITE DATAFRAME TO FILE\n",
    "print('Writing dataframe to file...')"
   ]
  },
  {
   "cell_type": "code",
   "execution_count": 13,
   "metadata": {},
   "outputs": [],
   "source": [
    "df.to_csv('../data/processed_data/'+output_file, compression='gzip', sep='\\t', encoding='iso-8859-1', index=False)"
   ]
  },
  {
   "cell_type": "code",
   "execution_count": 14,
   "metadata": {},
   "outputs": [
    {
     "name": "stdout",
     "output_type": "stream",
     "text": [
      "Preprocessing complete.\n",
      "Run time:  0:00:43.121072\n"
     ]
    }
   ],
   "source": [
    "print('Preprocessing complete.')\n",
    "print('Run time: ', datetime.now() - start_time)"
   ]
  }
 ],
 "metadata": {
  "kernelspec": {
   "display_name": "Python 3",
   "language": "python",
   "name": "python3"
  },
  "language_info": {
   "codemirror_mode": {
    "name": "ipython",
    "version": 3
   },
   "file_extension": ".py",
   "mimetype": "text/x-python",
   "name": "python",
   "nbconvert_exporter": "python",
   "pygments_lexer": "ipython3",
   "version": "3.7.0"
  }
 },
 "nbformat": 4,
 "nbformat_minor": 2
}
