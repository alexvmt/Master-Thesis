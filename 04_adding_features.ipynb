{
 "cells": [
  {
   "cell_type": "code",
   "execution_count": 1,
   "metadata": {},
   "outputs": [],
   "source": [
    "##### ADDING FEATURES #####"
   ]
  },
  {
   "cell_type": "code",
   "execution_count": 2,
   "metadata": {},
   "outputs": [],
   "source": [
    "print('Starting adding features...')"
   ]
  },
  {
   "cell_type": "code",
   "execution_count": 3,
   "metadata": {},
   "outputs": [
    {
     "name": "stdout",
     "output_type": "stream",
     "text": [
      "Start time:  2019-02-23 11:31:17.258717\n"
     ]
    }
   ],
   "source": [
    "### import libraries\n",
    "import pandas as pd\n",
    "import numpy as np\n",
    "from datetime import datetime,date\n",
    "\n",
    "start_time = datetime.now()\n",
    "print('Start time: ', start_time)"
   ]
  },
  {
   "cell_type": "code",
   "execution_count": 4,
   "metadata": {},
   "outputs": [],
   "source": [
    "#### SELECT INPUT AND OUTPUT FILES"
   ]
  },
  {
   "cell_type": "code",
   "execution_count": 5,
   "metadata": {},
   "outputs": [
    {
     "name": "stdout",
     "output_type": "stream",
     "text": [
      "Input file selected:  3_day_sample_preprocessed.tsv.gz\n",
      "Output file selected 3_day_sample_preprocessed_with_additional_features.tsv.gz\n"
     ]
    }
   ],
   "source": [
    "input_file = '3_day_sample_preprocessed.tsv.gz'\n",
    "output_file = '3_day_sample_preprocessed_with_additional_features.tsv.gz'\n",
    "#input_file = '6_week_sample_preprocessed.tsv.gz'\n",
    "#output_file = '6_week_sample_preprocessed_with_additional_features.tsv.gz'\n",
    "#input_file = '12_week_sample_preprocessed.tsv.gz'\n",
    "#output_file = '12_week_sample_preprocessed_with_additional_features.tsv.gz'\n",
    "#input_file = '25_week_sample_preprocessed.tsv.gz'\n",
    "#output_file = '25_week_sample_preprocessed_with_additional_features.tsv.gz'\n",
    "\n",
    "print('Input file selected: ', input_file)\n",
    "print('Output file selected', output_file)"
   ]
  },
  {
   "cell_type": "code",
   "execution_count": 6,
   "metadata": {},
   "outputs": [
    {
     "name": "stdout",
     "output_type": "stream",
     "text": [
      "Loading data...\n"
     ]
    }
   ],
   "source": [
    "##### LOAD DATA\n",
    "print('Loading data...')"
   ]
  },
  {
   "cell_type": "code",
   "execution_count": 7,
   "metadata": {},
   "outputs": [
    {
     "name": "stdout",
     "output_type": "stream",
     "text": [
      "Loading data complete.\n"
     ]
    }
   ],
   "source": [
    "df = pd.read_csv('../data/processed_data/'+input_file, compression='gzip', sep='\\t', low_memory=False, encoding='iso-8859-1', parse_dates=['hit_time_gmt', 'last_hit_time_gmt_visit', 'date_time'])\n",
    "\n",
    "print('Loading data complete.')"
   ]
  },
  {
   "cell_type": "code",
   "execution_count": 8,
   "metadata": {},
   "outputs": [
    {
     "name": "stdout",
     "output_type": "stream",
     "text": [
      "Adding additional features...\n"
     ]
    }
   ],
   "source": [
    "### ADD ADDITIONAL FEATURES\n",
    "print('Adding additional features...')"
   ]
  },
  {
   "cell_type": "code",
   "execution_count": 9,
   "metadata": {},
   "outputs": [],
   "source": [
    "# sort dataframe by visitor_id, visit_num, hit_time_gmt and last_hit_time_gmt_visit\n",
    "df = df.sort_values(['visitor_id', 'visit_num', 'hit_time_gmt', 'last_hit_time_gmt_visit'], ascending=[True, True, True, True])\n",
    "\n",
    "# day of week\n",
    "df['day_of_week'] = df['date_time'].apply(lambda x: x.weekday())\n",
    "\n",
    "# hour of day\n",
    "df['hour_of_day'] = df['date_time'].apply(lambda x: x.hour)\n",
    "\n",
    "# encode time features\n",
    "time_features = ['day_of_week',\n",
    "                 'hour_of_day']\n",
    "dummies = pd.get_dummies(df.loc[:, df.columns.isin(time_features)], drop_first=True)\n",
    "df.drop(time_features, axis=1, inplace=True)\n",
    "df = pd.concat([df, dummies], axis=1)"
   ]
  },
  {
   "cell_type": "code",
   "execution_count": 10,
   "metadata": {},
   "outputs": [],
   "source": [
    "# visit duration in seconds\n",
    "df['visit_duration_seconds'] = df['last_hit_time_gmt_visit'] - df['hit_time_gmt']\n",
    "df['visit_duration_seconds'] = df['visit_duration_seconds'].apply(lambda x: x.seconds)"
   ]
  },
  {
   "cell_type": "code",
   "execution_count": 11,
   "metadata": {},
   "outputs": [],
   "source": [
    "# lag columns for visitor_id and last_hit_time_gmt_visit\n",
    "df['visitor_id_lag'] = df['visitor_id'].shift(1)\n",
    "df['last_hit_time_gmt_visit_lag'] = df['last_hit_time_gmt_visit'].shift(1)\n",
    "\n",
    "# days since last visit and flag for visit in last 7 days\n",
    "df['days_since_last_visit'] = df.apply(lambda x: x['hit_time_gmt'] - x['last_hit_time_gmt_visit_lag'] \n",
    "                                       if x['visitor_id'] == x['visitor_id_lag'] \n",
    "                                       else np.nan, axis=1)\n",
    "df['days_since_last_visit'] = df['days_since_last_visit'].apply(lambda x: x.days)\n",
    "df['visit_in_last_7_days'] = df['days_since_last_visit'].apply(lambda x: 1 if (x >=0) & (x <= 7) else 0)"
   ]
  },
  {
   "cell_type": "code",
   "execution_count": 12,
   "metadata": {},
   "outputs": [],
   "source": [
    "# days since last purchase and flag for purchase in last 7 days\n",
    "df['purchase_date'] = df.apply(lambda x: x['hit_time_gmt'] if x['purchase'] == 1 else np.nan, axis=1)\n",
    "purchases = df[df['purchase'] == 1][['visitor_id', 'purchase_date']]\n",
    "purchases = purchases.sort_values(['visitor_id', 'purchase_date'], ascending=[True, True])\n",
    "purchases['visitor_id_lag'] = purchases['visitor_id'].shift(1)\n",
    "purchases['purchase_date_lag'] = purchases['purchase_date'].shift(1)\n",
    "\n",
    "purchases['days_since_last_purchase'] = purchases.apply(lambda x: x['purchase_date'] - x['purchase_date_lag']\n",
    "                                                  if x['visitor_id'] == x['visitor_id_lag']\n",
    "                                                  else np.nan, axis=1)\n",
    "purchases['days_since_last_purchase'] = purchases['days_since_last_purchase'].apply(lambda x: x.days)\n",
    "purchases['purchase_in_last_7_days'] = purchases['days_since_last_purchase'].apply(lambda x: 1 if (x >=0) & (x <= 7) else 0)\n",
    "purchases['purchase_num_period'] = purchases.groupby('visitor_id').cumcount()\n",
    "purchases['purchase_num_period'] = purchases['purchase_num_period'] + 1\n",
    "purchases.drop('visitor_id_lag', axis=1, inplace=True)\n",
    "\n",
    "df = pd.merge(df, purchases, on=['visitor_id', 'purchase_date'], how='left')\n",
    "df['purchase_in_last_7_days'] = df['purchase_in_last_7_days'].fillna(0).astype(np.int64)\n",
    "df['purchase_num_period'] = df['purchase_num_period'].fillna(0).astype(np.int64)"
   ]
  },
  {
   "cell_type": "code",
   "execution_count": 13,
   "metadata": {},
   "outputs": [],
   "source": [
    "# visit number in the current period\n",
    "df['visit_num_period'] = df.groupby('visitor_id').cumcount()\n",
    "df['visit_num_period'] = df['visit_num_period'] + 1"
   ]
  },
  {
   "cell_type": "code",
   "execution_count": 14,
   "metadata": {},
   "outputs": [],
   "source": [
    "# flag to indicate bounce\n",
    "df['bounce'] = df['visit_page_num'].apply(lambda x: 1 if x == 1 else 0)"
   ]
  },
  {
   "cell_type": "code",
   "execution_count": 15,
   "metadata": {},
   "outputs": [],
   "source": [
    "# flag to indicate visit from Switzerland\n",
    "df['Switzerland'] = df['country'].apply(lambda x: 1 if x == 'Switzerland' else 0)"
   ]
  },
  {
   "cell_type": "code",
   "execution_count": 16,
   "metadata": {},
   "outputs": [
    {
     "name": "stdout",
     "output_type": "stream",
     "text": [
      "Writing dataframe to file...\n"
     ]
    }
   ],
   "source": [
    "### WRITE DATAFRAME TO FILE\n",
    "print('Writing dataframe to file...')"
   ]
  },
  {
   "cell_type": "code",
   "execution_count": 17,
   "metadata": {},
   "outputs": [],
   "source": [
    "df.to_csv('../data/processed_data/'+output_file, compression='gzip', sep='\\t', encoding='iso-8859-1', index=False)"
   ]
  },
  {
   "cell_type": "code",
   "execution_count": 18,
   "metadata": {},
   "outputs": [
    {
     "name": "stdout",
     "output_type": "stream",
     "text": [
      "Adding additional features complete.\n",
      "Run time:  0:02:13.123670\n"
     ]
    }
   ],
   "source": [
    "print('Adding additional features complete.')\n",
    "print('Run time: ', datetime.now() - start_time)"
   ]
  }
 ],
 "metadata": {
  "kernelspec": {
   "display_name": "Python 3",
   "language": "python",
   "name": "python3"
  },
  "language_info": {
   "codemirror_mode": {
    "name": "ipython",
    "version": 3
   },
   "file_extension": ".py",
   "mimetype": "text/x-python",
   "name": "python",
   "nbconvert_exporter": "python",
   "pygments_lexer": "ipython3",
   "version": "3.7.0"
  }
 },
 "nbformat": 4,
 "nbformat_minor": 2
}
