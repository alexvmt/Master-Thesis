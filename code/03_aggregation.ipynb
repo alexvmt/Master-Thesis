{
 "cells": [
  {
   "cell_type": "code",
   "execution_count": 1,
   "metadata": {},
   "outputs": [],
   "source": [
    "##### AGGREGATION #####"
   ]
  },
  {
   "cell_type": "code",
   "execution_count": 2,
   "metadata": {},
   "outputs": [
    {
     "name": "stdout",
     "output_type": "stream",
     "text": [
      "Starting aggregation...\n"
     ]
    }
   ],
   "source": [
    "print('Starting aggregation...')"
   ]
  },
  {
   "cell_type": "code",
   "execution_count": 3,
   "metadata": {},
   "outputs": [
    {
     "name": "stdout",
     "output_type": "stream",
     "text": [
      "Start time:  2019-03-08 18:52:14.849274\n"
     ]
    }
   ],
   "source": [
    "### import libraries\n",
    "import pandas as pd\n",
    "import numpy as np\n",
    "from datetime import datetime,date\n",
    "\n",
    "start_time = datetime.now()\n",
    "print('Start time: ', start_time)"
   ]
  },
  {
   "cell_type": "code",
   "execution_count": 4,
   "metadata": {},
   "outputs": [],
   "source": [
    "#### SELECT INPUT AND OUTPUT FILES"
   ]
  },
  {
   "cell_type": "code",
   "execution_count": 5,
   "metadata": {},
   "outputs": [
    {
     "name": "stdout",
     "output_type": "stream",
     "text": [
      "Input file selected:  3_day_sample_cleaned_and_mapped.tsv.gz\n",
      "Output file selected 3_day_sample_aggregated.tsv.gz\n"
     ]
    }
   ],
   "source": [
    "input_file = '3_day_sample_cleaned_and_mapped.tsv.gz'\n",
    "output_file = '3_day_sample_aggregated.tsv.gz'\n",
    "#input_file = '6_week_sample_cleaned_and_mapped.tsv.gz'\n",
    "#output_file = '6_week_sample_aggregated.tsv.gz'\n",
    "#input_file = '12_week_sample_cleaned_and_mapped.tsv.gz'\n",
    "#output_file = '12_week_sample_aggregated.tsv.gz'\n",
    "#input_file = '25_week_sample_cleaned_and_mapped.tsv.gz'\n",
    "#output_file = '25_week_sample_aggregated.tsv.gz'\n",
    "\n",
    "print('Input file selected: ', input_file)\n",
    "print('Output file selected', output_file)"
   ]
  },
  {
   "cell_type": "code",
   "execution_count": 6,
   "metadata": {},
   "outputs": [
    {
     "name": "stdout",
     "output_type": "stream",
     "text": [
      "Loading data...\n"
     ]
    }
   ],
   "source": [
    "##### LOAD DATA\n",
    "print('Loading data...')"
   ]
  },
  {
   "cell_type": "code",
   "execution_count": 7,
   "metadata": {},
   "outputs": [
    {
     "name": "stdout",
     "output_type": "stream",
     "text": [
      "Loading data complete.\n"
     ]
    }
   ],
   "source": [
    "date_columns = ['hit_time_gmt',\n",
    "                 'date_time']\n",
    "df = pd.read_csv('../data/processed_data/'+input_file, compression='gzip', sep='\\t', encoding='iso-8859-1', quoting=3, low_memory=False, parse_dates=date_columns)\n",
    "\n",
    "print('Loading data complete.')"
   ]
  },
  {
   "cell_type": "code",
   "execution_count": 8,
   "metadata": {},
   "outputs": [
    {
     "name": "stdout",
     "output_type": "stream",
     "text": [
      "Aggregating numerical columns...\n"
     ]
    }
   ],
   "source": [
    "##### AGGREGATE NUMERICAL COLUMNS\n",
    "print('Aggregating numerical columns...')"
   ]
  },
  {
   "cell_type": "code",
   "execution_count": 9,
   "metadata": {},
   "outputs": [
    {
     "name": "stdout",
     "output_type": "stream",
     "text": [
      "Aggregating numerical columns complete.\n"
     ]
    }
   ],
   "source": [
    "# select numerical columns\n",
    "numerical_cols_names = ['visitor_id', \n",
    "                        'visit_num', \n",
    "                        'visit_page_num', \n",
    "                        'hit_time_gmt',\n",
    "                        'date_time',\n",
    "                        'purchase_boolean', \n",
    "                        'product_view_boolean', \n",
    "                        'checkout_boolean', \n",
    "                        'cart_addition_boolean', \n",
    "                        'cart_removal_boolean', \n",
    "                        'cart_view_boolean', \n",
    "                        'campaign_view_boolean', \n",
    "                        'cart_value', \n",
    "                        'page_view_boolean', \n",
    "                        'last_purchase_num', \n",
    "                        'num_product_items_seen', \n",
    "                        'sum_price_product_items_seen', \n",
    "                        'hit_counter', \n",
    "                        'standard_search_results_clicked', \n",
    "                        'standard_search_started', \n",
    "                        'suggested_search_results_clicked']\n",
    "\n",
    "numerical_cols = df.loc[:, df.columns.isin(numerical_cols_names)].copy()\n",
    "\n",
    "# group numerical columns by visitor_id and visit_num and aggregate\n",
    "numerical_cols_aggregated = numerical_cols.groupby(by = ['visitor_id', \n",
    "                                                         'visit_num'], as_index=False).agg({'visit_page_num' : 'max',\n",
    "                                                                                                          'hit_time_gmt': ['min', 'max'],\n",
    "                                                                                                          'date_time' : ['min', 'max'],\n",
    "                                                                                                          'purchase_boolean' : 'sum',\n",
    "                                                                                                          'product_view_boolean' : 'sum',\n",
    "                                                                                                          'checkout_boolean' : 'sum',\n",
    "                                                                                                          'cart_addition_boolean': 'sum',\n",
    "                                                                                                          'cart_removal_boolean': 'sum',\n",
    "                                                                                                          'cart_view_boolean': 'sum',\n",
    "                                                                                                          'campaign_view_boolean': 'sum',\n",
    "                                                                                                          'cart_value': 'sum',\n",
    "                                                                                                          'page_view_boolean': 'sum',\n",
    "                                                                                                          'last_purchase_num': 'max',\n",
    "                                                                                                          'num_product_items_seen' : 'sum',\n",
    "                                                                                                          'sum_price_product_items_seen' : 'sum',\n",
    "                                                                                                          'hit_counter' : 'sum',\n",
    "                                                                                                          'standard_search_results_clicked' : 'sum',\n",
    "                                                                                                          'standard_search_started' : 'sum',\n",
    "                                                                                                          'suggested_search_results_clicked' : 'sum'})\n",
    "\n",
    "# rename columns\n",
    "numerical_cols_aggregated.columns = ['_'.join(x) for x in numerical_cols_aggregated.columns.ravel()]\n",
    "numerical_cols_aggregated = numerical_cols_aggregated.rename(columns={'visitor_id_' : 'visitor_id',\n",
    "                                                                      'visit_num_' : 'visit_num', \n",
    "                                                                      'visit_page_num_max' : 'visit_page_num',\n",
    "                                                                      'hit_time_gmt_min' : 'hit_time_gmt',\n",
    "                                                                      'hit_time_gmt_max' : 'last_hit_time_gmt_visit',\n",
    "                                                                      'date_time_min' : 'date_time',\n",
    "                                                                      'date_time_max' : 'last_date_time_visit',\n",
    "                                                                      'purchase_boolean_sum' : 'purchase',\n",
    "                                                                      'product_view_boolean_sum' : 'product_views',\n",
    "                                                                      'checkout_boolean_sum' : 'checkouts',\n",
    "                                                                      'cart_addition_boolean_sum' : 'cart_additions',\n",
    "                                                                      'cart_removal_boolean_sum' : 'cart_removals',\n",
    "                                                                      'cart_view_boolean_sum' : 'cart_views',\n",
    "                                                                      'campaign_view_boolean_sum' : 'campaign_views',\n",
    "                                                                      'cart_value_sum' : 'cart_value',\n",
    "                                                                      'page_view_boolean_sum' : 'page_views',\n",
    "                                                                      'last_purchase_num_max' : 'last_purchase_num',\n",
    "                                                                      'num_product_items_seen_sum' : 'num_product_items_seen',\n",
    "                                                                      'sum_price_product_items_seen_sum' : 'sum_price_product_items_seen',\n",
    "                                                                      'hit_counter_sum' : 'hit_count',\n",
    "                                                                      'standard_search_results_clicked_sum' : 'standard_search_results_clicked', \n",
    "                                                                      'standard_search_started_sum' : 'standard_search_started', \n",
    "                                                                      'suggested_search_results_clicked_sum' : 'suggested_search_results_clicked'})\n",
    "\n",
    "# sort by hit_time_gmt, last_hit_time_gmt_visit, visitor_id and visit_num\n",
    "numerical_cols_aggregated = numerical_cols_aggregated.sort_values(['hit_time_gmt', \n",
    "                                                                   'last_hit_time_gmt_visit', \n",
    "                                                                   'visitor_id', \n",
    "                                                                   'visit_num'], ascending=[True, True, True, True])\n",
    "\n",
    "# reset index to make sure that index values are unique\n",
    "numerical_cols_aggregated = numerical_cols_aggregated.reset_index(drop=True)\n",
    "\n",
    "print('Aggregating numerical columns complete.')"
   ]
  },
  {
   "cell_type": "code",
   "execution_count": 10,
   "metadata": {},
   "outputs": [
    {
     "name": "stdout",
     "output_type": "stream",
     "text": [
      "Processing categorical columns...\n"
     ]
    }
   ],
   "source": [
    "##### PROCESS CATEGORICAL COLUMNS\n",
    "print('Processing categorical columns...')"
   ]
  },
  {
   "cell_type": "code",
   "execution_count": 11,
   "metadata": {},
   "outputs": [
    {
     "name": "stdout",
     "output_type": "stream",
     "text": [
      "Preparing categorical columns complete.\n"
     ]
    }
   ],
   "source": [
    "# select categorical columns\n",
    "categorical_cols_names = ['visitor_id',\n",
    "                          'hit_time_gmt',  \n",
    "                          'country', \n",
    "                          'cookies', \n",
    "                          'persistent_cookie', \n",
    "                          'search_page_num',\n",
    "                          'connection_type', \n",
    "                          'browser', \n",
    "                          'operating_system', \n",
    "                          'search_engine', \n",
    "                          'search_engine_generalized',\n",
    "                          'marketing_channel', \n",
    "                          'referrer_type', \n",
    "                          'new_visit', \n",
    "                          'hourly_visitor', \n",
    "                          'daily_visitor', \n",
    "                          'weekly_visitor', \n",
    "                          'monthly_visitor', \n",
    "                          'quarterly_visitor', \n",
    "                          'yearly_visitor', \n",
    "                          'product_categories_level_1', \n",
    "                          'product_categories_level_2', \n",
    "                          'product_categories_level_3', \n",
    "                          'device_type_user_agent', \n",
    "                          'device_brand_name_user_agent', \n",
    "                          'device_operating_system_user_agent', \n",
    "                          'device_browser_user_agent',\n",
    "                          'repeat_orders', \n",
    "                          'net_promoter_score', \n",
    "                          'hit_of_logged_in_user',\n",
    "                          'registered_user',\n",
    "                          'user_gender', \n",
    "                          'user_age', \n",
    "                          'visit_during_tv_spot']\n",
    "\n",
    "categorical_cols = df.loc[:, df.columns.isin(categorical_cols_names)].copy()\n",
    "\n",
    "# sort by hit_time_gmt, visitor_id and visit_num\n",
    "categorical_cols = categorical_cols.sort_values(['hit_time_gmt', \n",
    "                                                 'visitor_id'], ascending=[True, True])\n",
    "\n",
    "# reset index to make sure that index values are unique\n",
    "categorical_cols = categorical_cols.reset_index(drop=True)\n",
    "\n",
    "print('Preparing categorical columns complete.')"
   ]
  },
  {
   "cell_type": "code",
   "execution_count": 12,
   "metadata": {},
   "outputs": [
    {
     "name": "stdout",
     "output_type": "stream",
     "text": [
      "Merging numerical and categorical columns...\n"
     ]
    }
   ],
   "source": [
    "##### MERGE NUMERICAL AND CATEGORICAL COLUMNS\n",
    "print('Merging numerical and categorical columns...')"
   ]
  },
  {
   "cell_type": "code",
   "execution_count": 13,
   "metadata": {},
   "outputs": [
    {
     "name": "stdout",
     "output_type": "stream",
     "text": [
      "Merging numerical and categorical columns complete.\n"
     ]
    }
   ],
   "source": [
    "df = pd.merge_asof(numerical_cols_aggregated, categorical_cols, on='hit_time_gmt', by='visitor_id')\n",
    "\n",
    "# reset index to make sure that index values are unique\n",
    "df = df.reset_index(drop=True)\n",
    "\n",
    "print('Merging numerical and categorical columns complete.')"
   ]
  },
  {
   "cell_type": "code",
   "execution_count": 14,
   "metadata": {},
   "outputs": [
    {
     "name": "stdout",
     "output_type": "stream",
     "text": [
      "Writing dataframe to file...\n"
     ]
    }
   ],
   "source": [
    "##### WRITE DATAFRAME TO FILE\n",
    "print('Writing dataframe to file...')"
   ]
  },
  {
   "cell_type": "code",
   "execution_count": 15,
   "metadata": {},
   "outputs": [],
   "source": [
    "df.to_csv('../data/processed_data/'+output_file, compression='gzip', sep='\\t', encoding='iso-8859-1', index=False)"
   ]
  },
  {
   "cell_type": "code",
   "execution_count": 16,
   "metadata": {},
   "outputs": [
    {
     "name": "stdout",
     "output_type": "stream",
     "text": [
      "Aggregation complete.\n",
      "Run time:  0:01:07.328444\n"
     ]
    }
   ],
   "source": [
    "print('Aggregation complete.')\n",
    "run_time = datetime.now() - start_time\n",
    "print('Run time: ', run_time)\n",
    "\n",
    "run_time_dict_file = '3_day_sample_aggregation_run_time.txt'\n",
    "#run_time_dict_file = '6_week_sample_cleaning_and_mapping_run_time.txt'\n",
    "#run_time_dict_file = '12_week_sample_cleaning_and_mapping_run_time.txt'\n",
    "#run_time_dict_file = '25_week_sample_cleaning_and_mapping_run_time.txt'\n",
    "\n",
    "run_time_dict = {'aggregation run time' : run_time}\n",
    "\n",
    "f = open('../results/descriptives/'+run_time_dict_file, 'w')\n",
    "f.write(str(run_time_dict))\n",
    "f.close()"
   ]
  }
 ],
 "metadata": {
  "kernelspec": {
   "display_name": "Python 3",
   "language": "python",
   "name": "python3"
  },
  "language_info": {
   "codemirror_mode": {
    "name": "ipython",
    "version": 3
   },
   "file_extension": ".py",
   "mimetype": "text/x-python",
   "name": "python",
   "nbconvert_exporter": "python",
   "pygments_lexer": "ipython3",
   "version": "3.7.2"
  }
 },
 "nbformat": 4,
 "nbformat_minor": 2
}
