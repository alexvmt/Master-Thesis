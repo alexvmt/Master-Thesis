{
 "cells": [
  {
   "cell_type": "code",
   "execution_count": 1,
   "metadata": {},
   "outputs": [],
   "source": [
    "##### PREPROCESSING #####"
   ]
  },
  {
   "cell_type": "code",
   "execution_count": 2,
   "metadata": {},
   "outputs": [
    {
     "name": "stdout",
     "output_type": "stream",
     "text": [
      "Starting preprocessing...\n"
     ]
    }
   ],
   "source": [
    "print('Starting preprocessing...')"
   ]
  },
  {
   "cell_type": "code",
   "execution_count": 3,
   "metadata": {},
   "outputs": [
    {
     "name": "stdout",
     "output_type": "stream",
     "text": [
      "Start time:  2019-03-08 18:55:39.006285\n"
     ]
    }
   ],
   "source": [
    "### import libraries\n",
    "import pandas as pd\n",
    "import numpy as np\n",
    "from datetime import datetime,date\n",
    "\n",
    "start_time = datetime.now()\n",
    "print('Start time: ', start_time)"
   ]
  },
  {
   "cell_type": "code",
   "execution_count": 4,
   "metadata": {},
   "outputs": [],
   "source": [
    "#### SELECT INPUT AND OUTPUT FILES"
   ]
  },
  {
   "cell_type": "code",
   "execution_count": 5,
   "metadata": {},
   "outputs": [
    {
     "name": "stdout",
     "output_type": "stream",
     "text": [
      "Input file selected:  3_day_sample_aggregated.tsv.gz\n",
      "Output file selected 3_day_sample_preprocessed.tsv.gz\n"
     ]
    }
   ],
   "source": [
    "input_file = '3_day_sample_aggregated.tsv.gz'\n",
    "output_file = '3_day_sample_preprocessed.tsv.gz'\n",
    "#input_file = '6_week_sample_aggregated.tsv.gz'\n",
    "#output_file = '6_week_sample_preprocessed.tsv.gz'\n",
    "#input_file = '12_week_sample_aggregated.tsv.gz'\n",
    "#output_file = '12_week_sample_preprocessed.tsv.gz'\n",
    "#input_file = '25_week_sample_aggregated.tsv.gz'\n",
    "#output_file = '25_week_sample_preprocessed.tsv.gz'\n",
    "\n",
    "print('Input file selected: ', input_file)\n",
    "print('Output file selected', output_file)"
   ]
  },
  {
   "cell_type": "code",
   "execution_count": 6,
   "metadata": {},
   "outputs": [
    {
     "name": "stdout",
     "output_type": "stream",
     "text": [
      "Loading data...\n"
     ]
    }
   ],
   "source": [
    "##### LOAD DATA\n",
    "print('Loading data...')"
   ]
  },
  {
   "cell_type": "code",
   "execution_count": 7,
   "metadata": {},
   "outputs": [
    {
     "name": "stdout",
     "output_type": "stream",
     "text": [
      "Loading data complete.\n"
     ]
    }
   ],
   "source": [
    "date_columns = ['hit_time_gmt',\n",
    "                'last_hit_time_gmt_visit', \n",
    "                'date_time', \n",
    "                'last_date_time_visit']\n",
    "df = pd.read_csv('../data/processed_data/'+input_file, compression='gzip', sep='\\t', low_memory=False, encoding='iso-8859-1', parse_dates=date_columns)\n",
    "\n",
    "print('Loading data complete.')"
   ]
  },
  {
   "cell_type": "code",
   "execution_count": 8,
   "metadata": {},
   "outputs": [
    {
     "name": "stdout",
     "output_type": "stream",
     "text": [
      "Encoding target...\n"
     ]
    }
   ],
   "source": [
    "### ENCODE TARGET\n",
    "print('Encoding target...')"
   ]
  },
  {
   "cell_type": "code",
   "execution_count": 9,
   "metadata": {},
   "outputs": [
    {
     "name": "stdout",
     "output_type": "stream",
     "text": [
      "Encoding target complete.\n"
     ]
    }
   ],
   "source": [
    "# binary encode target to be either 1 or 0\n",
    "df['purchase'] = df['purchase'].apply(lambda x: 1 if x >= 1 else 0)\n",
    "\n",
    "print('Encoding target complete.')"
   ]
  },
  {
   "cell_type": "code",
   "execution_count": null,
   "metadata": {},
   "outputs": [],
   "source": [
    "### ENCODE CATEGORICAL FEATURES\n",
    "print('Encoding categorical features...')"
   ]
  },
  {
   "cell_type": "code",
   "execution_count": null,
   "metadata": {},
   "outputs": [],
   "source": [
    "#connection_type\n",
    "#browser\n",
    "#operating_system\n",
    "#search_engine\n",
    "#search_engine_generalized\n",
    "#marketing_channel\n",
    "#referrer_type\n",
    "#product_categories_level_1\n",
    "#product_categories_level_2\n",
    "#product_categories_level_3\n",
    "#device_type_user_agent\n",
    "#device_brand_name_user_agent\n",
    "#device_operating_system_user_agent\n",
    "#device_browser_user_agent \n",
    "\n",
    "categorical_cols = ['connection_type',\n",
    "                    'browser',\n",
    "                    'search_engine_generalized',\n",
    "                    'marketing_channel',\n",
    "                    'referrer_type', \n",
    "                    'device_type_ua',\n",
    "                    'device_brand_name_ua', \n",
    "                    'device_operating_system_ua', \n",
    "                    'device_browser_ua']\n",
    "\n",
    "dummies = pd.get_dummies(df.loc[:, df.columns.isin(categorical_cols)], drop_first=True)\n",
    "df = pd.concat([df, dummies], axis=1)"
   ]
  },
  {
   "cell_type": "code",
   "execution_count": null,
   "metadata": {},
   "outputs": [],
   "source": [
    "### WRITE DATAFRAME TO FILE\n",
    "print('Writing dataframe to file...')"
   ]
  },
  {
   "cell_type": "code",
   "execution_count": null,
   "metadata": {},
   "outputs": [],
   "source": [
    "df.to_csv('../data/processed_data/'+output_file, compression='gzip', sep='\\t', encoding='iso-8859-1', index=False)"
   ]
  },
  {
   "cell_type": "code",
   "execution_count": null,
   "metadata": {},
   "outputs": [],
   "source": [
    "print('Preprocessing complete.')\n",
    "run_time = datetime.now() - start_time\n",
    "print('Run time: ', run_time)\n",
    "\n",
    "run_time_dict_file = '3_day_sample_preprocessing_run_time.txt'\n",
    "#run_time_dict_file = '6_week_sample_cleaning_and_mapping_run_time.txt'\n",
    "#run_time_dict_file = '12_week_sample_cleaning_and_mapping_run_time.txt'\n",
    "#run_time_dict_file = '25_week_sample_cleaning_and_mapping_run_time.txt'\n",
    "\n",
    "run_time_dict = {'preprocessing run time' : run_time}\n",
    "\n",
    "f = open('../results/descriptives/'+run_time_dict_file, 'w')\n",
    "f.write(str(run_time_dict))\n",
    "f.close()"
   ]
  }
 ],
 "metadata": {
  "kernelspec": {
   "display_name": "Python 3",
   "language": "python",
   "name": "python3"
  },
  "language_info": {
   "codemirror_mode": {
    "name": "ipython",
    "version": 3
   },
   "file_extension": ".py",
   "mimetype": "text/x-python",
   "name": "python",
   "nbconvert_exporter": "python",
   "pygments_lexer": "ipython3",
   "version": "3.7.2"
  }
 },
 "nbformat": 4,
 "nbformat_minor": 2
}
