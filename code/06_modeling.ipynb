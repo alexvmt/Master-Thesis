{
 "cells": [
  {
   "cell_type": "code",
   "execution_count": 1,
   "metadata": {},
   "outputs": [],
   "source": [
    "##### MODELING #####"
   ]
  },
  {
   "cell_type": "code",
   "execution_count": 2,
   "metadata": {},
   "outputs": [
    {
     "name": "stdout",
     "output_type": "stream",
     "text": [
      "Starting modeling...\n"
     ]
    }
   ],
   "source": [
    "print('Starting modeling...')"
   ]
  },
  {
   "cell_type": "code",
   "execution_count": 3,
   "metadata": {},
   "outputs": [
    {
     "name": "stdout",
     "output_type": "stream",
     "text": [
      "Start time:  2019-02-26 20:43:18.077215\n"
     ]
    }
   ],
   "source": [
    "### import libraries\n",
    "import numpy as np\n",
    "import pandas as pd\n",
    "from datetime import datetime,date\n",
    "import csv\n",
    "\n",
    "start_time = datetime.now()\n",
    "print('Start time: ', start_time)"
   ]
  },
  {
   "cell_type": "code",
   "execution_count": 4,
   "metadata": {},
   "outputs": [],
   "source": [
    "#### SELECT INPUT FILE"
   ]
  },
  {
   "cell_type": "code",
   "execution_count": 5,
   "metadata": {},
   "outputs": [
    {
     "name": "stdout",
     "output_type": "stream",
     "text": [
      "Input file selected:  3_day_sample_preprocessed_with_additional_features.tsv.gz\n"
     ]
    }
   ],
   "source": [
    "input_file = '3_day_sample_preprocessed_with_additional_features.tsv.gz'\n",
    "#input_file = '6_week_sample_preprocessed_with_additional_features.tsv.gz'\n",
    "#input_file = '12_week_sample_preprocessed_with_additional_features.tsv.gz'\n",
    "#input_file = '25_week_sample_preprocessed_with_additional_features.tsv.gz'\n",
    "\n",
    "print('Input file selected: ', input_file)"
   ]
  },
  {
   "cell_type": "code",
   "execution_count": 6,
   "metadata": {},
   "outputs": [
    {
     "name": "stdout",
     "output_type": "stream",
     "text": [
      "Loading data...\n"
     ]
    }
   ],
   "source": [
    "##### LOAD DATA\n",
    "print('Loading data...')"
   ]
  },
  {
   "cell_type": "code",
   "execution_count": 7,
   "metadata": {},
   "outputs": [
    {
     "name": "stdout",
     "output_type": "stream",
     "text": [
      "Loading data complete.\n"
     ]
    }
   ],
   "source": [
    "df = pd.read_csv('../data/processed_data/'+input_file, compression='gzip', sep='\\t', low_memory=False, encoding='iso-8859-1', parse_dates=['hit_time_gmt', \n",
    "                                                                                                                                           'last_hit_time_gmt_visit',\n",
    "                                                                                                                                           'date_time', \n",
    "                                                                                                                                           'last_date_time_visit'])\n",
    "\n",
    "print('Loading data complete.')"
   ]
  },
  {
   "cell_type": "code",
   "execution_count": 8,
   "metadata": {},
   "outputs": [
    {
     "name": "stdout",
     "output_type": "stream",
     "text": [
      "Calculating descriptives...\n"
     ]
    }
   ],
   "source": [
    "##### DESCRIPTIVES\n",
    "print('Calculating descriptives...')"
   ]
  },
  {
   "cell_type": "code",
   "execution_count": 9,
   "metadata": {},
   "outputs": [
    {
     "name": "stdout",
     "output_type": "stream",
     "text": [
      "Sample descriptives:  {'sample size (days)': 3, 'unique visitors': 188746, 'visits': 214009, 'features': 142, 'conversion rate': 0.0077000000000000002}\n",
      "Calculating descriptives complete.\n"
     ]
    }
   ],
   "source": [
    "descriptives_dict = {'sample size (days)' : len(df['date_time'].apply(lambda x: x.date()).unique()),\n",
    "                     'unique visitors' : df['visitor_id'].nunique(),\n",
    "                     'visits' : df.shape[0],\n",
    "                     'features' : df.shape[1],\n",
    "                     'conversion rate' : round(df['purchase'].value_counts()[1]/(len(df['purchase'])), 4)}\n",
    "print('Sample descriptives: ', descriptives_dict)\n",
    "\n",
    "descriptives_dict_file = '3_day_sample_descriptives.txt'\n",
    "#descriptives_dict_file = '6_week_sample_descriptives.txt'\n",
    "#descriptives_dict_file = '12_week_sample_descriptives.txt'\n",
    "#descriptives_dict_file = '25_week_sample_descriptives.txt'\n",
    "\n",
    "f = open('../data/descriptives/'+descriptives_dict_file, 'w')\n",
    "f.write(str(descriptives_dict))\n",
    "f.close()\n",
    "\n",
    "print('Calculating descriptives complete.')"
   ]
  },
  {
   "cell_type": "code",
   "execution_count": 10,
   "metadata": {},
   "outputs": [],
   "source": [
    "##### PREPARE DATA FOR MODELING"
   ]
  },
  {
   "cell_type": "code",
   "execution_count": 11,
   "metadata": {},
   "outputs": [
    {
     "name": "stdout",
     "output_type": "stream",
     "text": [
      "Preparing data for modeling...\n"
     ]
    }
   ],
   "source": [
    "print('Preparing data for modeling...')"
   ]
  },
  {
   "cell_type": "code",
   "execution_count": 12,
   "metadata": {},
   "outputs": [],
   "source": [
    "# drop columns that have many missing values, are static or where their usefulness is unclear\n",
    "cols_to_drop = ['visitor_id_lag',\n",
    "                'hit_time_gmt',\n",
    "                'last_hit_time_gmt_visit', \n",
    "                'last_hit_time_gmt_visit_lag',\n",
    "                'last_date_time_visit',\n",
    "                'days_since_last_visit',\n",
    "                'purchase_date',\n",
    "                'purchase_date_lag',\n",
    "                'days_since_last_purchase',\n",
    "                'country', \n",
    "                'geo_region',\n",
    "                'geo_city',\n",
    "                'geo_zip',\n",
    "                'geo_dma',\n",
    "                'search_page_num',\n",
    "                'net_promoter_score_raw_(v10)_-_user',\n",
    "                'registration_(any_form)_(e20)',\n",
    "                'hit_of_logged_in_user_(e23)', # duplicate of login_status\n",
    "                'newsletter_signup_(any_form)_(e26)', \n",
    "                'newsletter_subscriber_(e27)', \n",
    "                'user_gender_(v61)',\n",
    "                'user_age_(v62)',\n",
    "                'login_success_(e72)', \n",
    "                'logout_success_(e73)', \n",
    "                'login_fail_(e74)', \n",
    "                'registration_fail_(e75)',\n",
    "                'product_categories_level_1',\n",
    "                'product_categories_level_2',\n",
    "                'product_categories_level_3', \n",
    "                'user_agent',\n",
    "                'connection_type',\n",
    "                'browser',\n",
    "                'operating_system_generalized',\n",
    "                'search_engine_generalized',\n",
    "                'marketing_channel',\n",
    "                'referrer_type']\n",
    "\n",
    "for col in cols_to_drop:\n",
    "    if col in df.columns:\n",
    "        df.drop(col, axis=1, inplace=True)\n",
    "    else:\n",
    "        pass"
   ]
  },
  {
   "cell_type": "code",
   "execution_count": 13,
   "metadata": {},
   "outputs": [
    {
     "name": "stdout",
     "output_type": "stream",
     "text": [
      "Descriptives training set:  {'days for training': 2, 'unique visitors': 134912, 'visits': 150771, 'features': 103, 'conversion rate': 0.0071999999999999998}\n"
     ]
    }
   ],
   "source": [
    "### generate training set from 2/3 of the data\n",
    "y_train = df[df['date_time'] <= '2016-05-10 23:59:59']['purchase']\n",
    "X_train = df[df['date_time'] <= '2016-05-10 23:59:59'].copy()\n",
    "X_train = X_train.reset_index(drop=True)\n",
    "\n",
    "train_descriptives_dict = {'days for training': len(X_train['date_time'].apply(lambda x: x.date()).unique()),\n",
    "                           'unique visitors' : X_train['visitor_id'].nunique(),\n",
    "                           'visits' : X_train.shape[0],\n",
    "                           'features' : X_train.shape[1] - 3,\n",
    "                           'conversion rate' : round(y_train.value_counts()[1]/(len(y_train)), 4)}\n",
    "X_train.drop(['purchase', 'date_time', 'visitor_id'], axis=1, inplace=True)\n",
    "print('Descriptives training set: ', train_descriptives_dict)\n",
    "\n",
    "train_descriptives_dict_file = '3_day_sample_train_descriptives.txt'\n",
    "#train_descriptives_dict_file = '6_week_sample_train_descriptives.txt'\n",
    "#train_descriptives_dict_file = '12_week_sample_train_descriptives.txt'\n",
    "#train_descriptives_dict_file = '25_week_sample_train_descriptives.txt'\n",
    "\n",
    "f = open('../data/descriptives/'+train_descriptives_dict_file, 'w')\n",
    "f.write(str(descriptives_dict))\n",
    "f.close()"
   ]
  },
  {
   "cell_type": "code",
   "execution_count": 14,
   "metadata": {},
   "outputs": [
    {
     "name": "stdout",
     "output_type": "stream",
     "text": [
      "Descriptives test set:  {'days for training': 1, 'unique visitors': 59070, 'visits': 63238, 'features': 103, 'conversion rate': 0.0088000000000000005}\n"
     ]
    }
   ],
   "source": [
    "### generate test set from 1/3 of the data\n",
    "y_test = df[df['date_time'] > '2016-05-10 23:59:59']['purchase']\n",
    "X_test = df[df['date_time'] > '2016-05-10 23:59:59'].copy()\n",
    "X_test = X_test.reset_index(drop=True)\n",
    "\n",
    "test_descriptives_dict = {'days for training': len(X_test['date_time'].apply(lambda x: x.date()).unique()),\n",
    "                           'unique visitors' : X_test['visitor_id'].nunique(),\n",
    "                           'visits' : X_test.shape[0],\n",
    "                           'features' : X_test.shape[1] - 3,\n",
    "                           'conversion rate' : round(y_test.value_counts()[1]/(len(y_test)), 4)}\n",
    "X_test.drop(['purchase', 'date_time', 'visitor_id'], axis=1, inplace=True)\n",
    "print('Descriptives test set: ', test_descriptives_dict)\n",
    "\n",
    "test_descriptives_dict_file = '3_day_sample_test_descriptives.txt'\n",
    "#test_descriptives_dict_file = '6_week_sample_test_descriptives.txt'\n",
    "#test_descriptives_dict_file = '12_week_sample_test_descriptives.txt'\n",
    "#test_descriptives_dict_file = '25_week_sample_test_descriptives.txt'\n",
    "\n",
    "f = open('../data/descriptives/'+test_descriptives_dict_file, 'w')\n",
    "f.write(str(descriptives_dict))\n",
    "f.close()"
   ]
  },
  {
   "cell_type": "code",
   "execution_count": 15,
   "metadata": {},
   "outputs": [
    {
     "name": "stdout",
     "output_type": "stream",
     "text": [
      "Preparing data for modeling complete.\n"
     ]
    }
   ],
   "source": [
    "print('Preparing data for modeling complete.')"
   ]
  },
  {
   "cell_type": "code",
   "execution_count": 16,
   "metadata": {},
   "outputs": [
    {
     "name": "stdout",
     "output_type": "stream",
     "text": [
      "Starting training, testing and evaluating models...\n"
     ]
    }
   ],
   "source": [
    "##### TRAIN, TEST AND EVALUATE MODELS\n",
    "print('Starting training, testing and evaluating models...')"
   ]
  },
  {
   "cell_type": "code",
   "execution_count": 17,
   "metadata": {},
   "outputs": [],
   "source": [
    "### import libraries for modeling and performance evaluation\n",
    "from sklearn.linear_model import LogisticRegression\n",
    "#from sklearn.tree import DecisionTreeClassifier\n",
    "#from sklearn.neighbors import KNeighborsClassifier\n",
    "#from sklearn.naive_bayes import GaussianNB\n",
    "#from sklearn.svm import SVC\n",
    "#from sklearn.ensemble import RandomForestClassifier\n",
    "\n",
    "#from sklearn.model_selection import KFold,cross_val_score\n",
    "from sklearn.metrics import accuracy_score,roc_curve,auc,confusion_matrix,classification_report"
   ]
  },
  {
   "cell_type": "code",
   "execution_count": 18,
   "metadata": {},
   "outputs": [],
   "source": [
    "### build models, do 10-fold cross validation and evaluate each model in turn\n",
    "models = []\n",
    "models.append(('LR', LogisticRegression()))\n",
    "#models.append(('KNN', KNeighborsClassifier()))\n",
    "#models.append(('CART', DecisionTreeClassifier()))\n",
    "#models.append(('NB', GaussianNB()))\n",
    "#models.append(('SVM', SVC()))\n",
    "#models.append(('RF', RandomForestClassifier()))"
   ]
  },
  {
   "cell_type": "code",
   "execution_count": 19,
   "metadata": {},
   "outputs": [
    {
     "name": "stdout",
     "output_type": "stream",
     "text": [
      "Training  LR ...\n"
     ]
    },
    {
     "name": "stderr",
     "output_type": "stream",
     "text": [
      "C:\\Users\\alex.merdian-tarko\\AppData\\Local\\Continuum\\anaconda3\\lib\\site-packages\\sklearn\\linear_model\\logistic.py:433: FutureWarning: Default solver will be changed to 'lbfgs' in 0.22. Specify a solver to silence this warning.\n",
      "  FutureWarning)\n",
      "C:\\Users\\alex.merdian-tarko\\AppData\\Local\\Continuum\\anaconda3\\lib\\site-packages\\sklearn\\svm\\base.py:922: ConvergenceWarning: Liblinear failed to converge, increase the number of iterations.\n",
      "  \"the number of iterations.\", ConvergenceWarning)\n"
     ]
    },
    {
     "name": "stdout",
     "output_type": "stream",
     "text": [
      "Training  LR complete, training_duration:  0:00:16.773270\n",
      "Testing  LR ...\n",
      "Testing  LR complete, test_duration:  0:00:00.093745\n",
      "Evaluating  LR ...\n",
      "{'model': 'LR', 'training duration': datetime.timedelta(seconds=16, microseconds=773270), 'test duration': datetime.timedelta(microseconds=93745), 'accuracy': 0.99011670198298496, 'auc': 0.53587683242869855, 'true negatives': 62572, 'false negatives': 517, 'true positives': 41, 'false positives': 108, 'precision': 0.27516778523489932, 'recall': 0.073476702508960573, 'f1 score': 0.11598302687411596}\n",
      "Evaluating  LR complete.\n"
     ]
    }
   ],
   "source": [
    "### train, test and evaluate each model in turn\n",
    "for name, model in models:\n",
    "    \n",
    "    # train\n",
    "    print('Training ', name, '...')\n",
    "    training_start_time = datetime.now()\n",
    "    model.fit(X_train, y_train)\n",
    "    training_duration = (datetime.now() - training_start_time)\n",
    "    print('Training ', name, 'complete, training_duration: ', training_duration)\n",
    "    \n",
    "    # test\n",
    "    print('Testing ', name, '...')\n",
    "    test_start_time = datetime.now()\n",
    "    y_pred = model.predict(X_test)\n",
    "    test_duration = datetime.now() - test_start_time\n",
    "    print('Testing ', name, 'complete, test_duration: ', test_duration)\n",
    "    \n",
    "    # evaluate\n",
    "    print('Evaluating ', name, '...')\n",
    "    accuracy = accuracy_score(y_test, y_pred)\n",
    "    fpr, tpr, thresholds = roc_curve(y_test, y_pred)\n",
    "    auc_score = auc(fpr, tpr)\n",
    "    true_negatives = confusion_matrix(y_test, y_pred)[0,0]\n",
    "    false_negatives = confusion_matrix(y_test, y_pred)[1,0]\n",
    "    true_positives = confusion_matrix(y_test, y_pred)[1,1]\n",
    "    false_positives = confusion_matrix(y_test, y_pred)[0,1]\n",
    "    precision = true_positives/(true_positives+false_positives)\n",
    "    recall = true_positives/(true_positives+false_negatives)\n",
    "    f1_score = 2*((precision*recall)/(precision+recall))\n",
    "\n",
    "    current_model = name\n",
    "    if current_model == 'LR':\n",
    "        \n",
    "        lr_output_dict = {'model' : 'LR',\n",
    "                          'training duration' : training_duration,\n",
    "                          'test duration' : test_duration, \n",
    "                          'accuracy' : accuracy, \n",
    "                          'auc' : auc_score, \n",
    "                          'true negatives' : true_negatives, \n",
    "                          'false negatives' : false_negatives, \n",
    "                          'true positives' : true_positives, \n",
    "                          'false positives' : false_positives, \n",
    "                          'precision' : precision, \n",
    "                          'recall' : recall, \n",
    "                          'f1 score' : f1_score}    \n",
    "        \n",
    "        print(lr_output_dict)\n",
    "        \n",
    "        f = open('../data/model_output/lr_output.txt', 'w')\n",
    "        f.write(str(lr_output_dict))\n",
    "        f.close()\n",
    "        \n",
    "    else:\n",
    "        pass\n",
    "\n",
    "    print('Evaluating ', name, 'complete.')"
   ]
  },
  {
   "cell_type": "code",
   "execution_count": 20,
   "metadata": {},
   "outputs": [
    {
     "name": "stdout",
     "output_type": "stream",
     "text": [
      "Starting resampling data using SMOTENC...\n"
     ]
    }
   ],
   "source": [
    "##### RESAMPLE DATA DUE TO CLASS IMBALANCE USING SMOTENC\n",
    "print('Starting resampling data using SMOTENC...')"
   ]
  },
  {
   "cell_type": "code",
   "execution_count": 21,
   "metadata": {},
   "outputs": [
    {
     "name": "stdout",
     "output_type": "stream",
     "text": [
      "{'resampling duration': datetime.timedelta(seconds=1746, microseconds=548441), 'original training set size': 150771, 'resampled training set size': 299382, 'original conversion rate': 0.0071999999999999998, 'new conversion rate': 0.5}\n",
      "Resampling complete.\n"
     ]
    }
   ],
   "source": [
    "from imblearn.over_sampling import SMOTENC\n",
    "\n",
    "resampling_start_time = datetime.now()\n",
    "sm = SMOTENC(random_state=42, categorical_features=[17, 18, 19, 20, 21, 22, 23, 24, 25, 26, 27, 28, 29, 30, 31, 32, 33, 34,\n",
    "                                                    35, 36, 37, 38, 39, 40, 41, 42, 43, 44, 45, 46, 47, 48, 49, 50, 51, 52,\n",
    "                                                    53, 54, 55, 56, 57, 58, 59, 60, 61, 62, 63, 64, 65, 66, 67, 68, 69, 70,\n",
    "                                                    71, 72, 73, 74, 75, 76, 77, 78, 79, 81, 82, 85, 86])\n",
    "X_train_res, y_train_res = sm.fit_resample(X_train, y_train)\n",
    "resampling_duration = (datetime.now() - resampling_start_time)\n",
    "\n",
    "resampled_train_descriptives_dict = {'resampling duration' : resampling_duration,\n",
    "                                     'original training set size' : X_train.shape[0], \n",
    "                                     'resampled training set size' : X_train_res.shape[0],\n",
    "                                     'original conversion rate' : round(y_train.value_counts()[1]/(len(y_train)), 4),\n",
    "                                     'new conversion rate' : round(y_train_res.sum()/(len(y_train_res)), 4)}\n",
    "print(resampled_train_descriptives_dict)\n",
    "\n",
    "resampled_train_descriptives_dict_file = '3_day_sample_resampled_train_descriptives.txt'\n",
    "#resampled_train_descriptives_dict_file = '6_week_sample_resampled_train_descriptives.txt'\n",
    "#resampled_train_descriptives_dict_file = '12_week_sample_resampled_train_descriptives.txt'\n",
    "#resampled_train_descriptives_dict_file = '25_week_sample_resampled_train_descriptives.txt'\n",
    "\n",
    "f = open('../data/descriptives/'+resampled_train_descriptives_dict_file, 'w')\n",
    "f.write(str(resampled_train_descriptives_dict))\n",
    "f.close()\n",
    "\n",
    "print('Resampling complete.')"
   ]
  },
  {
   "cell_type": "code",
   "execution_count": 22,
   "metadata": {},
   "outputs": [
    {
     "name": "stdout",
     "output_type": "stream",
     "text": [
      "Reevaluating models...\n"
     ]
    }
   ],
   "source": [
    "print('Reevaluating models...')"
   ]
  },
  {
   "cell_type": "code",
   "execution_count": 23,
   "metadata": {},
   "outputs": [
    {
     "name": "stdout",
     "output_type": "stream",
     "text": [
      "Training  LR ...\n"
     ]
    },
    {
     "name": "stderr",
     "output_type": "stream",
     "text": [
      "C:\\Users\\alex.merdian-tarko\\AppData\\Local\\Continuum\\anaconda3\\lib\\site-packages\\sklearn\\linear_model\\logistic.py:433: FutureWarning: Default solver will be changed to 'lbfgs' in 0.22. Specify a solver to silence this warning.\n",
      "  FutureWarning)\n",
      "C:\\Users\\alex.merdian-tarko\\AppData\\Local\\Continuum\\anaconda3\\lib\\site-packages\\sklearn\\svm\\base.py:922: ConvergenceWarning: Liblinear failed to converge, increase the number of iterations.\n",
      "  \"the number of iterations.\", ConvergenceWarning)\n"
     ]
    },
    {
     "name": "stdout",
     "output_type": "stream",
     "text": [
      "Training  LR complete, training_duration:  0:00:36.348734\n",
      "Testing  LR ...\n",
      "Testing  LR complete, test_duration:  0:00:00.234365\n",
      "Evaluating  LR ...\n",
      "{'model': 'LR resampled', 'training duration': datetime.timedelta(seconds=36, microseconds=348734), 'test duration': datetime.timedelta(microseconds=234365), 'accuracy': 0.98293747430342515, 'auc': 0.9780715839457631, 'true negatives': 61616, 'false negatives': 15, 'true positives': 543, 'false positives': 1064, 'precision': 0.33789670192906035, 'recall': 0.9731182795698925, 'f1 score': 0.50161662817551966}\n",
      "Evaluating  LR complete.\n"
     ]
    }
   ],
   "source": [
    "### train, test and evaluate each model in turn using the resampled training set\n",
    "for name, model in models:\n",
    "    \n",
    "    # train\n",
    "    print('Training ', name, '...')\n",
    "    training_start_time = datetime.now()\n",
    "    model.fit(X_train_res, y_train_res)\n",
    "    training_duration = (datetime.now() - training_start_time)\n",
    "    print('Training ', name, 'complete, training_duration: ', training_duration)\n",
    "    \n",
    "    # test\n",
    "    print('Testing ', name, '...')\n",
    "    test_start_time = datetime.now()\n",
    "    y_pred_res = model.predict(X_test)\n",
    "    test_duration = datetime.now() - test_start_time\n",
    "    print('Testing ', name, 'complete, test_duration: ', test_duration)\n",
    "    \n",
    "    # evaluate\n",
    "    print('Evaluating ', name, '...')\n",
    "    accuracy = accuracy_score(y_test, y_pred_res)\n",
    "    fpr, tpr, thresholds = roc_curve(y_test, y_pred_res)\n",
    "    auc_score = auc(fpr, tpr)\n",
    "    true_negatives = confusion_matrix(y_test, y_pred_res)[0,0]\n",
    "    false_negatives = confusion_matrix(y_test, y_pred_res)[1,0]\n",
    "    true_positives = confusion_matrix(y_test, y_pred_res)[1,1]\n",
    "    false_positives = confusion_matrix(y_test, y_pred_res)[0,1]\n",
    "    precision = true_positives/(true_positives+false_positives)\n",
    "    recall = true_positives/(true_positives+false_negatives)\n",
    "    f1_score = 2*((precision*recall)/(precision+recall))\n",
    "\n",
    "    current_model = name\n",
    "    if current_model == 'LR':\n",
    "        \n",
    "        lr_res_output_dict = {'model' : 'LR resampled',\n",
    "                              'training duration' : training_duration,\n",
    "                              'test duration' : test_duration, \n",
    "                              'accuracy' : accuracy, \n",
    "                              'auc' : auc_score, \n",
    "                              'true negatives' : true_negatives, \n",
    "                              'false negatives' : false_negatives, \n",
    "                              'true positives' : true_positives, \n",
    "                              'false positives' : false_positives, \n",
    "                              'precision' : precision, \n",
    "                              'recall' : recall, \n",
    "                              'f1 score' : f1_score}    \n",
    "        \n",
    "        print(lr_res_output_dict)\n",
    "        \n",
    "        f = open('../data/model_output/lr_res_output.txt', 'w')\n",
    "        f.write(str(lr_res_output_dict))\n",
    "        f.close()\n",
    "        \n",
    "    else:\n",
    "        pass\n",
    "\n",
    "    print('Evaluating ', name, 'complete.')"
   ]
  },
  {
   "cell_type": "code",
   "execution_count": 24,
   "metadata": {},
   "outputs": [
    {
     "name": "stdout",
     "output_type": "stream",
     "text": [
      "Reevaluating models complete.\n"
     ]
    }
   ],
   "source": [
    "print('Reevaluating models complete.')"
   ]
  },
  {
   "cell_type": "code",
   "execution_count": 25,
   "metadata": {},
   "outputs": [
    {
     "name": "stdout",
     "output_type": "stream",
     "text": [
      "Starting hyperparameter tuning using RandomSearch...\n"
     ]
    }
   ],
   "source": [
    "##### HYPERPARAMETER TUNING USING RANDOM SEARCH\n",
    "print('Starting hyperparameter tuning using RandomSearch...')"
   ]
  },
  {
   "cell_type": "code",
   "execution_count": 26,
   "metadata": {},
   "outputs": [],
   "source": [
    "from sklearn.model_selection import RandomizedSearchCV"
   ]
  },
  {
   "cell_type": "code",
   "execution_count": 27,
   "metadata": {},
   "outputs": [
    {
     "name": "stdout",
     "output_type": "stream",
     "text": [
      "Tuning logistic regression with original training data...\n"
     ]
    },
    {
     "name": "stderr",
     "output_type": "stream",
     "text": [
      "C:\\Users\\alex.merdian-tarko\\AppData\\Local\\Continuum\\anaconda3\\lib\\site-packages\\sklearn\\model_selection\\_split.py:2053: FutureWarning: You should specify a value for 'cv' instead of relying on the default value. The default value will change from 3 to 5 in version 0.22.\n",
      "  warnings.warn(CV_WARNING, FutureWarning)\n",
      "C:\\Users\\alex.merdian-tarko\\AppData\\Local\\Continuum\\anaconda3\\lib\\site-packages\\sklearn\\linear_model\\logistic.py:433: FutureWarning: Default solver will be changed to 'lbfgs' in 0.22. Specify a solver to silence this warning.\n",
      "  FutureWarning)\n",
      "C:\\Users\\alex.merdian-tarko\\AppData\\Local\\Continuum\\anaconda3\\lib\\site-packages\\sklearn\\svm\\base.py:922: ConvergenceWarning: Liblinear failed to converge, increase the number of iterations.\n",
      "  \"the number of iterations.\", ConvergenceWarning)\n",
      "C:\\Users\\alex.merdian-tarko\\AppData\\Local\\Continuum\\anaconda3\\lib\\site-packages\\sklearn\\linear_model\\logistic.py:433: FutureWarning: Default solver will be changed to 'lbfgs' in 0.22. Specify a solver to silence this warning.\n",
      "  FutureWarning)\n",
      "C:\\Users\\alex.merdian-tarko\\AppData\\Local\\Continuum\\anaconda3\\lib\\site-packages\\sklearn\\svm\\base.py:922: ConvergenceWarning: Liblinear failed to converge, increase the number of iterations.\n",
      "  \"the number of iterations.\", ConvergenceWarning)\n",
      "C:\\Users\\alex.merdian-tarko\\AppData\\Local\\Continuum\\anaconda3\\lib\\site-packages\\sklearn\\linear_model\\logistic.py:433: FutureWarning: Default solver will be changed to 'lbfgs' in 0.22. Specify a solver to silence this warning.\n",
      "  FutureWarning)\n",
      "C:\\Users\\alex.merdian-tarko\\AppData\\Local\\Continuum\\anaconda3\\lib\\site-packages\\sklearn\\svm\\base.py:922: ConvergenceWarning: Liblinear failed to converge, increase the number of iterations.\n",
      "  \"the number of iterations.\", ConvergenceWarning)\n",
      "C:\\Users\\alex.merdian-tarko\\AppData\\Local\\Continuum\\anaconda3\\lib\\site-packages\\sklearn\\linear_model\\logistic.py:433: FutureWarning: Default solver will be changed to 'lbfgs' in 0.22. Specify a solver to silence this warning.\n",
      "  FutureWarning)\n",
      "C:\\Users\\alex.merdian-tarko\\AppData\\Local\\Continuum\\anaconda3\\lib\\site-packages\\sklearn\\svm\\base.py:922: ConvergenceWarning: Liblinear failed to converge, increase the number of iterations.\n",
      "  \"the number of iterations.\", ConvergenceWarning)\n",
      "C:\\Users\\alex.merdian-tarko\\AppData\\Local\\Continuum\\anaconda3\\lib\\site-packages\\sklearn\\linear_model\\logistic.py:433: FutureWarning: Default solver will be changed to 'lbfgs' in 0.22. Specify a solver to silence this warning.\n",
      "  FutureWarning)\n",
      "C:\\Users\\alex.merdian-tarko\\AppData\\Local\\Continuum\\anaconda3\\lib\\site-packages\\sklearn\\svm\\base.py:922: ConvergenceWarning: Liblinear failed to converge, increase the number of iterations.\n",
      "  \"the number of iterations.\", ConvergenceWarning)\n",
      "C:\\Users\\alex.merdian-tarko\\AppData\\Local\\Continuum\\anaconda3\\lib\\site-packages\\sklearn\\linear_model\\logistic.py:433: FutureWarning: Default solver will be changed to 'lbfgs' in 0.22. Specify a solver to silence this warning.\n",
      "  FutureWarning)\n",
      "C:\\Users\\alex.merdian-tarko\\AppData\\Local\\Continuum\\anaconda3\\lib\\site-packages\\sklearn\\svm\\base.py:922: ConvergenceWarning: Liblinear failed to converge, increase the number of iterations.\n",
      "  \"the number of iterations.\", ConvergenceWarning)\n",
      "C:\\Users\\alex.merdian-tarko\\AppData\\Local\\Continuum\\anaconda3\\lib\\site-packages\\sklearn\\linear_model\\logistic.py:433: FutureWarning: Default solver will be changed to 'lbfgs' in 0.22. Specify a solver to silence this warning.\n",
      "  FutureWarning)\n",
      "C:\\Users\\alex.merdian-tarko\\AppData\\Local\\Continuum\\anaconda3\\lib\\site-packages\\sklearn\\svm\\base.py:922: ConvergenceWarning: Liblinear failed to converge, increase the number of iterations.\n",
      "  \"the number of iterations.\", ConvergenceWarning)\n",
      "C:\\Users\\alex.merdian-tarko\\AppData\\Local\\Continuum\\anaconda3\\lib\\site-packages\\sklearn\\linear_model\\logistic.py:433: FutureWarning: Default solver will be changed to 'lbfgs' in 0.22. Specify a solver to silence this warning.\n",
      "  FutureWarning)\n",
      "C:\\Users\\alex.merdian-tarko\\AppData\\Local\\Continuum\\anaconda3\\lib\\site-packages\\sklearn\\svm\\base.py:922: ConvergenceWarning: Liblinear failed to converge, increase the number of iterations.\n",
      "  \"the number of iterations.\", ConvergenceWarning)\n",
      "C:\\Users\\alex.merdian-tarko\\AppData\\Local\\Continuum\\anaconda3\\lib\\site-packages\\sklearn\\linear_model\\logistic.py:433: FutureWarning: Default solver will be changed to 'lbfgs' in 0.22. Specify a solver to silence this warning.\n",
      "  FutureWarning)\n",
      "C:\\Users\\alex.merdian-tarko\\AppData\\Local\\Continuum\\anaconda3\\lib\\site-packages\\sklearn\\svm\\base.py:922: ConvergenceWarning: Liblinear failed to converge, increase the number of iterations.\n",
      "  \"the number of iterations.\", ConvergenceWarning)\n",
      "C:\\Users\\alex.merdian-tarko\\AppData\\Local\\Continuum\\anaconda3\\lib\\site-packages\\sklearn\\linear_model\\logistic.py:433: FutureWarning: Default solver will be changed to 'lbfgs' in 0.22. Specify a solver to silence this warning.\n",
      "  FutureWarning)\n",
      "C:\\Users\\alex.merdian-tarko\\AppData\\Local\\Continuum\\anaconda3\\lib\\site-packages\\sklearn\\svm\\base.py:922: ConvergenceWarning: Liblinear failed to converge, increase the number of iterations.\n",
      "  \"the number of iterations.\", ConvergenceWarning)\n",
      "C:\\Users\\alex.merdian-tarko\\AppData\\Local\\Continuum\\anaconda3\\lib\\site-packages\\sklearn\\linear_model\\logistic.py:433: FutureWarning: Default solver will be changed to 'lbfgs' in 0.22. Specify a solver to silence this warning.\n",
      "  FutureWarning)\n",
      "C:\\Users\\alex.merdian-tarko\\AppData\\Local\\Continuum\\anaconda3\\lib\\site-packages\\sklearn\\svm\\base.py:922: ConvergenceWarning: Liblinear failed to converge, increase the number of iterations.\n",
      "  \"the number of iterations.\", ConvergenceWarning)\n",
      "C:\\Users\\alex.merdian-tarko\\AppData\\Local\\Continuum\\anaconda3\\lib\\site-packages\\sklearn\\linear_model\\logistic.py:433: FutureWarning: Default solver will be changed to 'lbfgs' in 0.22. Specify a solver to silence this warning.\n",
      "  FutureWarning)\n",
      "C:\\Users\\alex.merdian-tarko\\AppData\\Local\\Continuum\\anaconda3\\lib\\site-packages\\sklearn\\svm\\base.py:922: ConvergenceWarning: Liblinear failed to converge, increase the number of iterations.\n",
      "  \"the number of iterations.\", ConvergenceWarning)\n",
      "C:\\Users\\alex.merdian-tarko\\AppData\\Local\\Continuum\\anaconda3\\lib\\site-packages\\sklearn\\linear_model\\logistic.py:433: FutureWarning: Default solver will be changed to 'lbfgs' in 0.22. Specify a solver to silence this warning.\n",
      "  FutureWarning)\n",
      "C:\\Users\\alex.merdian-tarko\\AppData\\Local\\Continuum\\anaconda3\\lib\\site-packages\\sklearn\\svm\\base.py:922: ConvergenceWarning: Liblinear failed to converge, increase the number of iterations.\n",
      "  \"the number of iterations.\", ConvergenceWarning)\n",
      "C:\\Users\\alex.merdian-tarko\\AppData\\Local\\Continuum\\anaconda3\\lib\\site-packages\\sklearn\\linear_model\\logistic.py:433: FutureWarning: Default solver will be changed to 'lbfgs' in 0.22. Specify a solver to silence this warning.\n",
      "  FutureWarning)\n",
      "C:\\Users\\alex.merdian-tarko\\AppData\\Local\\Continuum\\anaconda3\\lib\\site-packages\\sklearn\\svm\\base.py:922: ConvergenceWarning: Liblinear failed to converge, increase the number of iterations.\n",
      "  \"the number of iterations.\", ConvergenceWarning)\n",
      "C:\\Users\\alex.merdian-tarko\\AppData\\Local\\Continuum\\anaconda3\\lib\\site-packages\\sklearn\\linear_model\\logistic.py:433: FutureWarning: Default solver will be changed to 'lbfgs' in 0.22. Specify a solver to silence this warning.\n",
      "  FutureWarning)\n",
      "C:\\Users\\alex.merdian-tarko\\AppData\\Local\\Continuum\\anaconda3\\lib\\site-packages\\sklearn\\svm\\base.py:922: ConvergenceWarning: Liblinear failed to converge, increase the number of iterations.\n",
      "  \"the number of iterations.\", ConvergenceWarning)\n",
      "C:\\Users\\alex.merdian-tarko\\AppData\\Local\\Continuum\\anaconda3\\lib\\site-packages\\sklearn\\linear_model\\logistic.py:433: FutureWarning: Default solver will be changed to 'lbfgs' in 0.22. Specify a solver to silence this warning.\n",
      "  FutureWarning)\n",
      "C:\\Users\\alex.merdian-tarko\\AppData\\Local\\Continuum\\anaconda3\\lib\\site-packages\\sklearn\\svm\\base.py:922: ConvergenceWarning: Liblinear failed to converge, increase the number of iterations.\n",
      "  \"the number of iterations.\", ConvergenceWarning)\n",
      "C:\\Users\\alex.merdian-tarko\\AppData\\Local\\Continuum\\anaconda3\\lib\\site-packages\\sklearn\\linear_model\\logistic.py:433: FutureWarning: Default solver will be changed to 'lbfgs' in 0.22. Specify a solver to silence this warning.\n",
      "  FutureWarning)\n"
     ]
    },
    {
     "name": "stderr",
     "output_type": "stream",
     "text": [
      "C:\\Users\\alex.merdian-tarko\\AppData\\Local\\Continuum\\anaconda3\\lib\\site-packages\\sklearn\\svm\\base.py:922: ConvergenceWarning: Liblinear failed to converge, increase the number of iterations.\n",
      "  \"the number of iterations.\", ConvergenceWarning)\n",
      "C:\\Users\\alex.merdian-tarko\\AppData\\Local\\Continuum\\anaconda3\\lib\\site-packages\\sklearn\\linear_model\\logistic.py:433: FutureWarning: Default solver will be changed to 'lbfgs' in 0.22. Specify a solver to silence this warning.\n",
      "  FutureWarning)\n",
      "C:\\Users\\alex.merdian-tarko\\AppData\\Local\\Continuum\\anaconda3\\lib\\site-packages\\sklearn\\svm\\base.py:922: ConvergenceWarning: Liblinear failed to converge, increase the number of iterations.\n",
      "  \"the number of iterations.\", ConvergenceWarning)\n",
      "C:\\Users\\alex.merdian-tarko\\AppData\\Local\\Continuum\\anaconda3\\lib\\site-packages\\sklearn\\linear_model\\logistic.py:433: FutureWarning: Default solver will be changed to 'lbfgs' in 0.22. Specify a solver to silence this warning.\n",
      "  FutureWarning)\n",
      "C:\\Users\\alex.merdian-tarko\\AppData\\Local\\Continuum\\anaconda3\\lib\\site-packages\\sklearn\\svm\\base.py:922: ConvergenceWarning: Liblinear failed to converge, increase the number of iterations.\n",
      "  \"the number of iterations.\", ConvergenceWarning)\n",
      "C:\\Users\\alex.merdian-tarko\\AppData\\Local\\Continuum\\anaconda3\\lib\\site-packages\\sklearn\\linear_model\\logistic.py:433: FutureWarning: Default solver will be changed to 'lbfgs' in 0.22. Specify a solver to silence this warning.\n",
      "  FutureWarning)\n",
      "C:\\Users\\alex.merdian-tarko\\AppData\\Local\\Continuum\\anaconda3\\lib\\site-packages\\sklearn\\svm\\base.py:922: ConvergenceWarning: Liblinear failed to converge, increase the number of iterations.\n",
      "  \"the number of iterations.\", ConvergenceWarning)\n",
      "C:\\Users\\alex.merdian-tarko\\AppData\\Local\\Continuum\\anaconda3\\lib\\site-packages\\sklearn\\linear_model\\logistic.py:433: FutureWarning: Default solver will be changed to 'lbfgs' in 0.22. Specify a solver to silence this warning.\n",
      "  FutureWarning)\n",
      "C:\\Users\\alex.merdian-tarko\\AppData\\Local\\Continuum\\anaconda3\\lib\\site-packages\\sklearn\\svm\\base.py:922: ConvergenceWarning: Liblinear failed to converge, increase the number of iterations.\n",
      "  \"the number of iterations.\", ConvergenceWarning)\n",
      "C:\\Users\\alex.merdian-tarko\\AppData\\Local\\Continuum\\anaconda3\\lib\\site-packages\\sklearn\\linear_model\\logistic.py:433: FutureWarning: Default solver will be changed to 'lbfgs' in 0.22. Specify a solver to silence this warning.\n",
      "  FutureWarning)\n",
      "C:\\Users\\alex.merdian-tarko\\AppData\\Local\\Continuum\\anaconda3\\lib\\site-packages\\sklearn\\svm\\base.py:922: ConvergenceWarning: Liblinear failed to converge, increase the number of iterations.\n",
      "  \"the number of iterations.\", ConvergenceWarning)\n",
      "C:\\Users\\alex.merdian-tarko\\AppData\\Local\\Continuum\\anaconda3\\lib\\site-packages\\sklearn\\linear_model\\logistic.py:433: FutureWarning: Default solver will be changed to 'lbfgs' in 0.22. Specify a solver to silence this warning.\n",
      "  FutureWarning)\n",
      "C:\\Users\\alex.merdian-tarko\\AppData\\Local\\Continuum\\anaconda3\\lib\\site-packages\\sklearn\\svm\\base.py:922: ConvergenceWarning: Liblinear failed to converge, increase the number of iterations.\n",
      "  \"the number of iterations.\", ConvergenceWarning)\n",
      "C:\\Users\\alex.merdian-tarko\\AppData\\Local\\Continuum\\anaconda3\\lib\\site-packages\\sklearn\\linear_model\\logistic.py:433: FutureWarning: Default solver will be changed to 'lbfgs' in 0.22. Specify a solver to silence this warning.\n",
      "  FutureWarning)\n",
      "C:\\Users\\alex.merdian-tarko\\AppData\\Local\\Continuum\\anaconda3\\lib\\site-packages\\sklearn\\svm\\base.py:922: ConvergenceWarning: Liblinear failed to converge, increase the number of iterations.\n",
      "  \"the number of iterations.\", ConvergenceWarning)\n",
      "C:\\Users\\alex.merdian-tarko\\AppData\\Local\\Continuum\\anaconda3\\lib\\site-packages\\sklearn\\linear_model\\logistic.py:433: FutureWarning: Default solver will be changed to 'lbfgs' in 0.22. Specify a solver to silence this warning.\n",
      "  FutureWarning)\n",
      "C:\\Users\\alex.merdian-tarko\\AppData\\Local\\Continuum\\anaconda3\\lib\\site-packages\\sklearn\\svm\\base.py:922: ConvergenceWarning: Liblinear failed to converge, increase the number of iterations.\n",
      "  \"the number of iterations.\", ConvergenceWarning)\n",
      "C:\\Users\\alex.merdian-tarko\\AppData\\Local\\Continuum\\anaconda3\\lib\\site-packages\\sklearn\\linear_model\\logistic.py:433: FutureWarning: Default solver will be changed to 'lbfgs' in 0.22. Specify a solver to silence this warning.\n",
      "  FutureWarning)\n",
      "C:\\Users\\alex.merdian-tarko\\AppData\\Local\\Continuum\\anaconda3\\lib\\site-packages\\sklearn\\svm\\base.py:922: ConvergenceWarning: Liblinear failed to converge, increase the number of iterations.\n",
      "  \"the number of iterations.\", ConvergenceWarning)\n",
      "C:\\Users\\alex.merdian-tarko\\AppData\\Local\\Continuum\\anaconda3\\lib\\site-packages\\sklearn\\linear_model\\logistic.py:433: FutureWarning: Default solver will be changed to 'lbfgs' in 0.22. Specify a solver to silence this warning.\n",
      "  FutureWarning)\n",
      "C:\\Users\\alex.merdian-tarko\\AppData\\Local\\Continuum\\anaconda3\\lib\\site-packages\\sklearn\\svm\\base.py:922: ConvergenceWarning: Liblinear failed to converge, increase the number of iterations.\n",
      "  \"the number of iterations.\", ConvergenceWarning)\n",
      "C:\\Users\\alex.merdian-tarko\\AppData\\Local\\Continuum\\anaconda3\\lib\\site-packages\\sklearn\\linear_model\\logistic.py:433: FutureWarning: Default solver will be changed to 'lbfgs' in 0.22. Specify a solver to silence this warning.\n",
      "  FutureWarning)\n",
      "C:\\Users\\alex.merdian-tarko\\AppData\\Local\\Continuum\\anaconda3\\lib\\site-packages\\sklearn\\svm\\base.py:922: ConvergenceWarning: Liblinear failed to converge, increase the number of iterations.\n",
      "  \"the number of iterations.\", ConvergenceWarning)\n",
      "C:\\Users\\alex.merdian-tarko\\AppData\\Local\\Continuum\\anaconda3\\lib\\site-packages\\sklearn\\linear_model\\logistic.py:433: FutureWarning: Default solver will be changed to 'lbfgs' in 0.22. Specify a solver to silence this warning.\n",
      "  FutureWarning)\n",
      "C:\\Users\\alex.merdian-tarko\\AppData\\Local\\Continuum\\anaconda3\\lib\\site-packages\\sklearn\\svm\\base.py:922: ConvergenceWarning: Liblinear failed to converge, increase the number of iterations.\n",
      "  \"the number of iterations.\", ConvergenceWarning)\n",
      "C:\\Users\\alex.merdian-tarko\\AppData\\Local\\Continuum\\anaconda3\\lib\\site-packages\\sklearn\\linear_model\\logistic.py:433: FutureWarning: Default solver will be changed to 'lbfgs' in 0.22. Specify a solver to silence this warning.\n",
      "  FutureWarning)\n",
      "C:\\Users\\alex.merdian-tarko\\AppData\\Local\\Continuum\\anaconda3\\lib\\site-packages\\sklearn\\svm\\base.py:922: ConvergenceWarning: Liblinear failed to converge, increase the number of iterations.\n",
      "  \"the number of iterations.\", ConvergenceWarning)\n",
      "C:\\Users\\alex.merdian-tarko\\AppData\\Local\\Continuum\\anaconda3\\lib\\site-packages\\sklearn\\linear_model\\logistic.py:433: FutureWarning: Default solver will be changed to 'lbfgs' in 0.22. Specify a solver to silence this warning.\n",
      "  FutureWarning)\n",
      "C:\\Users\\alex.merdian-tarko\\AppData\\Local\\Continuum\\anaconda3\\lib\\site-packages\\sklearn\\svm\\base.py:922: ConvergenceWarning: Liblinear failed to converge, increase the number of iterations.\n",
      "  \"the number of iterations.\", ConvergenceWarning)\n"
     ]
    },
    {
     "name": "stdout",
     "output_type": "stream",
     "text": [
      "{'model': 'LR tuned', 'default params': LogisticRegression(C=1.0, class_weight=None, dual=False, fit_intercept=True,\n",
      "          intercept_scaling=1, max_iter=100, multi_class='warn',\n",
      "          n_jobs=None, penalty='l2', random_state=None, solver='warn',\n",
      "          tol=0.0001, verbose=0, warm_start=False), 'optimal params': {'C': 720.00009999999997}, 'tuning duration': datetime.timedelta(seconds=405, microseconds=252638), 'evaluation duration': datetime.timedelta(microseconds=93748), 'accuracy': 0.99011670198298496, 'auc': 0.53410067178568732, 'true negatives': 62574, 'false negatives': 519, 'true positives': 39, 'false positives': 106, 'precision': 0.26896551724137929, 'recall': 0.069892473118279563, 'f1 score': 0.11095305832147936}\n",
      "Tuning logistic regression with original training data complete.\n"
     ]
    }
   ],
   "source": [
    "print('Tuning logistic regression with original training data...')\n",
    "\n",
    "lr = LogisticRegression()\n",
    "params = {'C' : np.arange(0.0001, 1000, 10)}\n",
    "grid = RandomizedSearchCV(lr, params)\n",
    "\n",
    "tuning_start_time = datetime.now()\n",
    "grid.fit(X_train, y_train)\n",
    "tuning_duration = (datetime.now() - training_start_time)\n",
    "\n",
    "evaluation_start_time = datetime.now()\n",
    "y_pred_tuned = grid.best_estimator_.predict(X_test)\n",
    "evaluation_duration = (datetime.now() - evaluation_start_time)\n",
    "\n",
    "accuracy = accuracy_score(y_test, y_pred_tuned)\n",
    "fpr, tpr, thresholds = roc_curve(y_test, y_pred_tuned)\n",
    "auc_score = auc(fpr, tpr)\n",
    "true_negatives = confusion_matrix(y_test, y_pred_tuned)[0,0]\n",
    "false_negatives = confusion_matrix(y_test, y_pred_tuned)[1,0]\n",
    "true_positives = confusion_matrix(y_test, y_pred_tuned)[1,1]\n",
    "false_positives = confusion_matrix(y_test, y_pred_tuned)[0,1]\n",
    "precision = true_positives/(true_positives+false_positives)\n",
    "recall = true_positives/(true_positives+false_negatives)\n",
    "f1_score = 2*((precision*recall)/(precision+recall))\n",
    "\n",
    "lr_tuned_output_dict = {'model' : 'LR tuned', \n",
    "                        'default params' : lr,\n",
    "                        'optimal params' : grid.best_params_,\n",
    "                        'tuning duration' : tuning_duration,\n",
    "                        'evaluation duration' : evaluation_duration, \n",
    "                        'accuracy' : accuracy, \n",
    "                        'auc' : auc_score, \n",
    "                        'true negatives' : true_negatives, \n",
    "                        'false negatives' : false_negatives, \n",
    "                        'true positives' : true_positives, \n",
    "                        'false positives' : false_positives, \n",
    "                        'precision' : precision, \n",
    "                        'recall' : recall, \n",
    "                        'f1 score' : f1_score}    \n",
    "\n",
    "print(lr_tuned_output_dict)\n",
    "\n",
    "f = open('../data/model_output/lr_tuned_output.txt', 'w')\n",
    "f.write(str(lr_tuned_output_dict))\n",
    "f.close()\n",
    "\n",
    "print('Tuning logistic regression with original training data complete.')"
   ]
  },
  {
   "cell_type": "code",
   "execution_count": 28,
   "metadata": {},
   "outputs": [
    {
     "name": "stdout",
     "output_type": "stream",
     "text": [
      "Tuning logistic regression with resampled training data...\n"
     ]
    },
    {
     "name": "stderr",
     "output_type": "stream",
     "text": [
      "C:\\Users\\alex.merdian-tarko\\AppData\\Local\\Continuum\\anaconda3\\lib\\site-packages\\sklearn\\model_selection\\_split.py:2053: FutureWarning: You should specify a value for 'cv' instead of relying on the default value. The default value will change from 3 to 5 in version 0.22.\n",
      "  warnings.warn(CV_WARNING, FutureWarning)\n",
      "C:\\Users\\alex.merdian-tarko\\AppData\\Local\\Continuum\\anaconda3\\lib\\site-packages\\sklearn\\linear_model\\logistic.py:433: FutureWarning: Default solver will be changed to 'lbfgs' in 0.22. Specify a solver to silence this warning.\n",
      "  FutureWarning)\n",
      "C:\\Users\\alex.merdian-tarko\\AppData\\Local\\Continuum\\anaconda3\\lib\\site-packages\\sklearn\\svm\\base.py:922: ConvergenceWarning: Liblinear failed to converge, increase the number of iterations.\n",
      "  \"the number of iterations.\", ConvergenceWarning)\n",
      "C:\\Users\\alex.merdian-tarko\\AppData\\Local\\Continuum\\anaconda3\\lib\\site-packages\\sklearn\\linear_model\\logistic.py:433: FutureWarning: Default solver will be changed to 'lbfgs' in 0.22. Specify a solver to silence this warning.\n",
      "  FutureWarning)\n",
      "C:\\Users\\alex.merdian-tarko\\AppData\\Local\\Continuum\\anaconda3\\lib\\site-packages\\sklearn\\svm\\base.py:922: ConvergenceWarning: Liblinear failed to converge, increase the number of iterations.\n",
      "  \"the number of iterations.\", ConvergenceWarning)\n",
      "C:\\Users\\alex.merdian-tarko\\AppData\\Local\\Continuum\\anaconda3\\lib\\site-packages\\sklearn\\linear_model\\logistic.py:433: FutureWarning: Default solver will be changed to 'lbfgs' in 0.22. Specify a solver to silence this warning.\n",
      "  FutureWarning)\n",
      "C:\\Users\\alex.merdian-tarko\\AppData\\Local\\Continuum\\anaconda3\\lib\\site-packages\\sklearn\\linear_model\\logistic.py:433: FutureWarning: Default solver will be changed to 'lbfgs' in 0.22. Specify a solver to silence this warning.\n",
      "  FutureWarning)\n",
      "C:\\Users\\alex.merdian-tarko\\AppData\\Local\\Continuum\\anaconda3\\lib\\site-packages\\sklearn\\svm\\base.py:922: ConvergenceWarning: Liblinear failed to converge, increase the number of iterations.\n",
      "  \"the number of iterations.\", ConvergenceWarning)\n",
      "C:\\Users\\alex.merdian-tarko\\AppData\\Local\\Continuum\\anaconda3\\lib\\site-packages\\sklearn\\linear_model\\logistic.py:433: FutureWarning: Default solver will be changed to 'lbfgs' in 0.22. Specify a solver to silence this warning.\n",
      "  FutureWarning)\n",
      "C:\\Users\\alex.merdian-tarko\\AppData\\Local\\Continuum\\anaconda3\\lib\\site-packages\\sklearn\\svm\\base.py:922: ConvergenceWarning: Liblinear failed to converge, increase the number of iterations.\n",
      "  \"the number of iterations.\", ConvergenceWarning)\n",
      "C:\\Users\\alex.merdian-tarko\\AppData\\Local\\Continuum\\anaconda3\\lib\\site-packages\\sklearn\\linear_model\\logistic.py:433: FutureWarning: Default solver will be changed to 'lbfgs' in 0.22. Specify a solver to silence this warning.\n",
      "  FutureWarning)\n",
      "C:\\Users\\alex.merdian-tarko\\AppData\\Local\\Continuum\\anaconda3\\lib\\site-packages\\sklearn\\linear_model\\logistic.py:433: FutureWarning: Default solver will be changed to 'lbfgs' in 0.22. Specify a solver to silence this warning.\n",
      "  FutureWarning)\n",
      "C:\\Users\\alex.merdian-tarko\\AppData\\Local\\Continuum\\anaconda3\\lib\\site-packages\\sklearn\\svm\\base.py:922: ConvergenceWarning: Liblinear failed to converge, increase the number of iterations.\n",
      "  \"the number of iterations.\", ConvergenceWarning)\n",
      "C:\\Users\\alex.merdian-tarko\\AppData\\Local\\Continuum\\anaconda3\\lib\\site-packages\\sklearn\\linear_model\\logistic.py:433: FutureWarning: Default solver will be changed to 'lbfgs' in 0.22. Specify a solver to silence this warning.\n",
      "  FutureWarning)\n",
      "C:\\Users\\alex.merdian-tarko\\AppData\\Local\\Continuum\\anaconda3\\lib\\site-packages\\sklearn\\svm\\base.py:922: ConvergenceWarning: Liblinear failed to converge, increase the number of iterations.\n",
      "  \"the number of iterations.\", ConvergenceWarning)\n",
      "C:\\Users\\alex.merdian-tarko\\AppData\\Local\\Continuum\\anaconda3\\lib\\site-packages\\sklearn\\linear_model\\logistic.py:433: FutureWarning: Default solver will be changed to 'lbfgs' in 0.22. Specify a solver to silence this warning.\n",
      "  FutureWarning)\n",
      "C:\\Users\\alex.merdian-tarko\\AppData\\Local\\Continuum\\anaconda3\\lib\\site-packages\\sklearn\\svm\\base.py:922: ConvergenceWarning: Liblinear failed to converge, increase the number of iterations.\n",
      "  \"the number of iterations.\", ConvergenceWarning)\n",
      "C:\\Users\\alex.merdian-tarko\\AppData\\Local\\Continuum\\anaconda3\\lib\\site-packages\\sklearn\\linear_model\\logistic.py:433: FutureWarning: Default solver will be changed to 'lbfgs' in 0.22. Specify a solver to silence this warning.\n",
      "  FutureWarning)\n",
      "C:\\Users\\alex.merdian-tarko\\AppData\\Local\\Continuum\\anaconda3\\lib\\site-packages\\sklearn\\svm\\base.py:922: ConvergenceWarning: Liblinear failed to converge, increase the number of iterations.\n",
      "  \"the number of iterations.\", ConvergenceWarning)\n",
      "C:\\Users\\alex.merdian-tarko\\AppData\\Local\\Continuum\\anaconda3\\lib\\site-packages\\sklearn\\linear_model\\logistic.py:433: FutureWarning: Default solver will be changed to 'lbfgs' in 0.22. Specify a solver to silence this warning.\n",
      "  FutureWarning)\n",
      "C:\\Users\\alex.merdian-tarko\\AppData\\Local\\Continuum\\anaconda3\\lib\\site-packages\\sklearn\\svm\\base.py:922: ConvergenceWarning: Liblinear failed to converge, increase the number of iterations.\n",
      "  \"the number of iterations.\", ConvergenceWarning)\n",
      "C:\\Users\\alex.merdian-tarko\\AppData\\Local\\Continuum\\anaconda3\\lib\\site-packages\\sklearn\\linear_model\\logistic.py:433: FutureWarning: Default solver will be changed to 'lbfgs' in 0.22. Specify a solver to silence this warning.\n",
      "  FutureWarning)\n",
      "C:\\Users\\alex.merdian-tarko\\AppData\\Local\\Continuum\\anaconda3\\lib\\site-packages\\sklearn\\linear_model\\logistic.py:433: FutureWarning: Default solver will be changed to 'lbfgs' in 0.22. Specify a solver to silence this warning.\n",
      "  FutureWarning)\n",
      "C:\\Users\\alex.merdian-tarko\\AppData\\Local\\Continuum\\anaconda3\\lib\\site-packages\\sklearn\\svm\\base.py:922: ConvergenceWarning: Liblinear failed to converge, increase the number of iterations.\n",
      "  \"the number of iterations.\", ConvergenceWarning)\n",
      "C:\\Users\\alex.merdian-tarko\\AppData\\Local\\Continuum\\anaconda3\\lib\\site-packages\\sklearn\\linear_model\\logistic.py:433: FutureWarning: Default solver will be changed to 'lbfgs' in 0.22. Specify a solver to silence this warning.\n",
      "  FutureWarning)\n",
      "C:\\Users\\alex.merdian-tarko\\AppData\\Local\\Continuum\\anaconda3\\lib\\site-packages\\sklearn\\svm\\base.py:922: ConvergenceWarning: Liblinear failed to converge, increase the number of iterations.\n",
      "  \"the number of iterations.\", ConvergenceWarning)\n",
      "C:\\Users\\alex.merdian-tarko\\AppData\\Local\\Continuum\\anaconda3\\lib\\site-packages\\sklearn\\linear_model\\logistic.py:433: FutureWarning: Default solver will be changed to 'lbfgs' in 0.22. Specify a solver to silence this warning.\n",
      "  FutureWarning)\n",
      "C:\\Users\\alex.merdian-tarko\\AppData\\Local\\Continuum\\anaconda3\\lib\\site-packages\\sklearn\\linear_model\\logistic.py:433: FutureWarning: Default solver will be changed to 'lbfgs' in 0.22. Specify a solver to silence this warning.\n",
      "  FutureWarning)\n",
      "C:\\Users\\alex.merdian-tarko\\AppData\\Local\\Continuum\\anaconda3\\lib\\site-packages\\sklearn\\svm\\base.py:922: ConvergenceWarning: Liblinear failed to converge, increase the number of iterations.\n",
      "  \"the number of iterations.\", ConvergenceWarning)\n",
      "C:\\Users\\alex.merdian-tarko\\AppData\\Local\\Continuum\\anaconda3\\lib\\site-packages\\sklearn\\linear_model\\logistic.py:433: FutureWarning: Default solver will be changed to 'lbfgs' in 0.22. Specify a solver to silence this warning.\n",
      "  FutureWarning)\n",
      "C:\\Users\\alex.merdian-tarko\\AppData\\Local\\Continuum\\anaconda3\\lib\\site-packages\\sklearn\\svm\\base.py:922: ConvergenceWarning: Liblinear failed to converge, increase the number of iterations.\n",
      "  \"the number of iterations.\", ConvergenceWarning)\n",
      "C:\\Users\\alex.merdian-tarko\\AppData\\Local\\Continuum\\anaconda3\\lib\\site-packages\\sklearn\\linear_model\\logistic.py:433: FutureWarning: Default solver will be changed to 'lbfgs' in 0.22. Specify a solver to silence this warning.\n",
      "  FutureWarning)\n",
      "C:\\Users\\alex.merdian-tarko\\AppData\\Local\\Continuum\\anaconda3\\lib\\site-packages\\sklearn\\linear_model\\logistic.py:433: FutureWarning: Default solver will be changed to 'lbfgs' in 0.22. Specify a solver to silence this warning.\n",
      "  FutureWarning)\n",
      "C:\\Users\\alex.merdian-tarko\\AppData\\Local\\Continuum\\anaconda3\\lib\\site-packages\\sklearn\\svm\\base.py:922: ConvergenceWarning: Liblinear failed to converge, increase the number of iterations.\n",
      "  \"the number of iterations.\", ConvergenceWarning)\n"
     ]
    },
    {
     "name": "stderr",
     "output_type": "stream",
     "text": [
      "C:\\Users\\alex.merdian-tarko\\AppData\\Local\\Continuum\\anaconda3\\lib\\site-packages\\sklearn\\linear_model\\logistic.py:433: FutureWarning: Default solver will be changed to 'lbfgs' in 0.22. Specify a solver to silence this warning.\n",
      "  FutureWarning)\n",
      "C:\\Users\\alex.merdian-tarko\\AppData\\Local\\Continuum\\anaconda3\\lib\\site-packages\\sklearn\\svm\\base.py:922: ConvergenceWarning: Liblinear failed to converge, increase the number of iterations.\n",
      "  \"the number of iterations.\", ConvergenceWarning)\n",
      "C:\\Users\\alex.merdian-tarko\\AppData\\Local\\Continuum\\anaconda3\\lib\\site-packages\\sklearn\\linear_model\\logistic.py:433: FutureWarning: Default solver will be changed to 'lbfgs' in 0.22. Specify a solver to silence this warning.\n",
      "  FutureWarning)\n",
      "C:\\Users\\alex.merdian-tarko\\AppData\\Local\\Continuum\\anaconda3\\lib\\site-packages\\sklearn\\linear_model\\logistic.py:433: FutureWarning: Default solver will be changed to 'lbfgs' in 0.22. Specify a solver to silence this warning.\n",
      "  FutureWarning)\n",
      "C:\\Users\\alex.merdian-tarko\\AppData\\Local\\Continuum\\anaconda3\\lib\\site-packages\\sklearn\\svm\\base.py:922: ConvergenceWarning: Liblinear failed to converge, increase the number of iterations.\n",
      "  \"the number of iterations.\", ConvergenceWarning)\n",
      "C:\\Users\\alex.merdian-tarko\\AppData\\Local\\Continuum\\anaconda3\\lib\\site-packages\\sklearn\\linear_model\\logistic.py:433: FutureWarning: Default solver will be changed to 'lbfgs' in 0.22. Specify a solver to silence this warning.\n",
      "  FutureWarning)\n",
      "C:\\Users\\alex.merdian-tarko\\AppData\\Local\\Continuum\\anaconda3\\lib\\site-packages\\sklearn\\svm\\base.py:922: ConvergenceWarning: Liblinear failed to converge, increase the number of iterations.\n",
      "  \"the number of iterations.\", ConvergenceWarning)\n",
      "C:\\Users\\alex.merdian-tarko\\AppData\\Local\\Continuum\\anaconda3\\lib\\site-packages\\sklearn\\linear_model\\logistic.py:433: FutureWarning: Default solver will be changed to 'lbfgs' in 0.22. Specify a solver to silence this warning.\n",
      "  FutureWarning)\n",
      "C:\\Users\\alex.merdian-tarko\\AppData\\Local\\Continuum\\anaconda3\\lib\\site-packages\\sklearn\\svm\\base.py:922: ConvergenceWarning: Liblinear failed to converge, increase the number of iterations.\n",
      "  \"the number of iterations.\", ConvergenceWarning)\n",
      "C:\\Users\\alex.merdian-tarko\\AppData\\Local\\Continuum\\anaconda3\\lib\\site-packages\\sklearn\\linear_model\\logistic.py:433: FutureWarning: Default solver will be changed to 'lbfgs' in 0.22. Specify a solver to silence this warning.\n",
      "  FutureWarning)\n",
      "C:\\Users\\alex.merdian-tarko\\AppData\\Local\\Continuum\\anaconda3\\lib\\site-packages\\sklearn\\svm\\base.py:922: ConvergenceWarning: Liblinear failed to converge, increase the number of iterations.\n",
      "  \"the number of iterations.\", ConvergenceWarning)\n",
      "C:\\Users\\alex.merdian-tarko\\AppData\\Local\\Continuum\\anaconda3\\lib\\site-packages\\sklearn\\linear_model\\logistic.py:433: FutureWarning: Default solver will be changed to 'lbfgs' in 0.22. Specify a solver to silence this warning.\n",
      "  FutureWarning)\n",
      "C:\\Users\\alex.merdian-tarko\\AppData\\Local\\Continuum\\anaconda3\\lib\\site-packages\\sklearn\\svm\\base.py:922: ConvergenceWarning: Liblinear failed to converge, increase the number of iterations.\n",
      "  \"the number of iterations.\", ConvergenceWarning)\n",
      "C:\\Users\\alex.merdian-tarko\\AppData\\Local\\Continuum\\anaconda3\\lib\\site-packages\\sklearn\\linear_model\\logistic.py:433: FutureWarning: Default solver will be changed to 'lbfgs' in 0.22. Specify a solver to silence this warning.\n",
      "  FutureWarning)\n",
      "C:\\Users\\alex.merdian-tarko\\AppData\\Local\\Continuum\\anaconda3\\lib\\site-packages\\sklearn\\linear_model\\logistic.py:433: FutureWarning: Default solver will be changed to 'lbfgs' in 0.22. Specify a solver to silence this warning.\n",
      "  FutureWarning)\n",
      "C:\\Users\\alex.merdian-tarko\\AppData\\Local\\Continuum\\anaconda3\\lib\\site-packages\\sklearn\\svm\\base.py:922: ConvergenceWarning: Liblinear failed to converge, increase the number of iterations.\n",
      "  \"the number of iterations.\", ConvergenceWarning)\n",
      "C:\\Users\\alex.merdian-tarko\\AppData\\Local\\Continuum\\anaconda3\\lib\\site-packages\\sklearn\\linear_model\\logistic.py:433: FutureWarning: Default solver will be changed to 'lbfgs' in 0.22. Specify a solver to silence this warning.\n",
      "  FutureWarning)\n",
      "C:\\Users\\alex.merdian-tarko\\AppData\\Local\\Continuum\\anaconda3\\lib\\site-packages\\sklearn\\svm\\base.py:922: ConvergenceWarning: Liblinear failed to converge, increase the number of iterations.\n",
      "  \"the number of iterations.\", ConvergenceWarning)\n",
      "C:\\Users\\alex.merdian-tarko\\AppData\\Local\\Continuum\\anaconda3\\lib\\site-packages\\sklearn\\linear_model\\logistic.py:433: FutureWarning: Default solver will be changed to 'lbfgs' in 0.22. Specify a solver to silence this warning.\n",
      "  FutureWarning)\n",
      "C:\\Users\\alex.merdian-tarko\\AppData\\Local\\Continuum\\anaconda3\\lib\\site-packages\\sklearn\\svm\\base.py:922: ConvergenceWarning: Liblinear failed to converge, increase the number of iterations.\n",
      "  \"the number of iterations.\", ConvergenceWarning)\n",
      "C:\\Users\\alex.merdian-tarko\\AppData\\Local\\Continuum\\anaconda3\\lib\\site-packages\\sklearn\\linear_model\\logistic.py:433: FutureWarning: Default solver will be changed to 'lbfgs' in 0.22. Specify a solver to silence this warning.\n",
      "  FutureWarning)\n",
      "C:\\Users\\alex.merdian-tarko\\AppData\\Local\\Continuum\\anaconda3\\lib\\site-packages\\sklearn\\svm\\base.py:922: ConvergenceWarning: Liblinear failed to converge, increase the number of iterations.\n",
      "  \"the number of iterations.\", ConvergenceWarning)\n"
     ]
    },
    {
     "name": "stdout",
     "output_type": "stream",
     "text": [
      "{'model': 'LR resampled tuned', 'default params': LogisticRegression(C=1.0, class_weight=None, dual=False, fit_intercept=True,\n",
      "          intercept_scaling=1, max_iter=100, multi_class='warn',\n",
      "          n_jobs=None, penalty='l2', random_state=None, solver='warn',\n",
      "          tol=0.0001, verbose=0, warm_start=False), 'optimal params': {'C': 930.00009999999997}, 'tuning duration': datetime.timedelta(seconds=1077, microseconds=76141), 'evaluation duration': datetime.timedelta(microseconds=109372), 'accuracy': 0.97696005566273447, 'auc': 0.96262314355444845, 'true negatives': 61252, 'false negatives': 29, 'true positives': 529, 'false positives': 1428, 'precision': 0.27031170158405721, 'recall': 0.94802867383512546, 'f1 score': 0.42067594433399602}\n",
      "Tuning logistic regression with resampled training data complete.\n"
     ]
    }
   ],
   "source": [
    "print('Tuning logistic regression with resampled training data...')\n",
    "\n",
    "lr = LogisticRegression()\n",
    "params = {'C' : np.arange(0.0001, 1000, 10)}\n",
    "grid = RandomizedSearchCV(lr, params)\n",
    "\n",
    "tuning_start_time = datetime.now()\n",
    "grid.fit(X_train_res, y_train_res)\n",
    "tuning_duration = (datetime.now() - training_start_time)\n",
    "\n",
    "evaluation_start_time = datetime.now()\n",
    "y_pred_res_tuned = grid.best_estimator_.predict(X_test)\n",
    "evaluation_duration = (datetime.now() - evaluation_start_time)\n",
    "\n",
    "accuracy = accuracy_score(y_test, y_pred_res_tuned)\n",
    "fpr, tpr, thresholds = roc_curve(y_test, y_pred_res_tuned)\n",
    "auc_score = auc(fpr, tpr)\n",
    "true_negatives = confusion_matrix(y_test, y_pred_res_tuned)[0,0]\n",
    "false_negatives = confusion_matrix(y_test, y_pred_res_tuned)[1,0]\n",
    "true_positives = confusion_matrix(y_test, y_pred_res_tuned)[1,1]\n",
    "false_positives = confusion_matrix(y_test, y_pred_res_tuned)[0,1]\n",
    "precision = true_positives/(true_positives+false_positives)\n",
    "recall = true_positives/(true_positives+false_negatives)\n",
    "f1_score = 2*((precision*recall)/(precision+recall))\n",
    "\n",
    "lr_res_tuned_output_dict = {'model' : 'LR resampled tuned',\n",
    "                            'default params' : lr,\n",
    "                            'optimal params' : grid.best_params_,\n",
    "                            'tuning duration' : tuning_duration,\n",
    "                            'evaluation duration' : evaluation_duration,  \n",
    "                            'accuracy' : accuracy, \n",
    "                            'auc' : auc_score, \n",
    "                            'true negatives' : true_negatives, \n",
    "                            'false negatives' : false_negatives, \n",
    "                            'true positives' : true_positives, \n",
    "                            'false positives' : false_positives, \n",
    "                            'precision' : precision, \n",
    "                            'recall' : recall, \n",
    "                            'f1 score' : f1_score}    \n",
    "\n",
    "print(lr_res_tuned_output_dict)\n",
    "\n",
    "f = open('../data/model_output/lr_res_tuned_output.txt', 'w')\n",
    "f.write(str(lr_res_tuned_output_dict))\n",
    "f.close()\n",
    "\n",
    "print('Tuning logistic regression with resampled training data complete.')"
   ]
  },
  {
   "cell_type": "code",
   "execution_count": 29,
   "metadata": {},
   "outputs": [
    {
     "name": "stdout",
     "output_type": "stream",
     "text": [
      "Hyperparameter tuning complete.\n"
     ]
    }
   ],
   "source": [
    "print('Hyperparameter tuning complete.')"
   ]
  },
  {
   "cell_type": "code",
   "execution_count": 30,
   "metadata": {},
   "outputs": [
    {
     "name": "stdout",
     "output_type": "stream",
     "text": [
      "Modeling complete.\n",
      "Run time:  0:48:03.482051\n"
     ]
    }
   ],
   "source": [
    "print('Modeling complete.')\n",
    "print('Run time: ', datetime.now() - start_time)"
   ]
  }
 ],
 "metadata": {
  "kernelspec": {
   "display_name": "Python 3",
   "language": "python",
   "name": "python3"
  },
  "language_info": {
   "codemirror_mode": {
    "name": "ipython",
    "version": 3
   },
   "file_extension": ".py",
   "mimetype": "text/x-python",
   "name": "python",
   "nbconvert_exporter": "python",
   "pygments_lexer": "ipython3",
   "version": "3.7.2"
  }
 },
 "nbformat": 4,
 "nbformat_minor": 2
}
