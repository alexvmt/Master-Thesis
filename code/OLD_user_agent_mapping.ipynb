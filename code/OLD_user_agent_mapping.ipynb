{
 "cells": [
  {
   "cell_type": "code",
   "execution_count": 1,
   "metadata": {},
   "outputs": [],
   "source": [
    "##### USER AGENT MAPPING ######"
   ]
  },
  {
   "cell_type": "code",
   "execution_count": 2,
   "metadata": {},
   "outputs": [
    {
     "name": "stdout",
     "output_type": "stream",
     "text": [
      "Starting user agent mapping...\n"
     ]
    }
   ],
   "source": [
    "print('Starting user agent mapping...')"
   ]
  },
  {
   "cell_type": "code",
   "execution_count": 3,
   "metadata": {},
   "outputs": [
    {
     "name": "stdout",
     "output_type": "stream",
     "text": [
      "Start time:  2019-03-10 12:04:55.136802\n"
     ]
    }
   ],
   "source": [
    "# import libraries\n",
    "from datetime import datetime,date\n",
    "start_time = datetime.now()\n",
    "print('Start time: ', start_time)\n",
    "\n",
    "import pandas as pd\n",
    "import numpy as np\n",
    "from device_detector import DeviceDetector"
   ]
  },
  {
   "cell_type": "code",
   "execution_count": 4,
   "metadata": {},
   "outputs": [
    {
     "name": "stdout",
     "output_type": "stream",
     "text": [
      "Loading data...\n"
     ]
    }
   ],
   "source": [
    "### LOAD DATA\n",
    "print('Loading data...')"
   ]
  },
  {
   "cell_type": "code",
   "execution_count": 5,
   "metadata": {},
   "outputs": [
    {
     "name": "stdout",
     "output_type": "stream",
     "text": [
      "Input file selected:  3_day_sample_raw.tsv.gz\n",
      "Output file selected:  user_agent_mapping.tsv.gz\n"
     ]
    }
   ],
   "source": [
    "input_file = '3_day_sample_raw.tsv.gz'\n",
    "output_file = 'user_agent_mapping.tsv.gz'\n",
    "\n",
    "print('Input file selected: ', input_file)\n",
    "print('Output file selected: ', output_file)"
   ]
  },
  {
   "cell_type": "code",
   "execution_count": 6,
   "metadata": {},
   "outputs": [
    {
     "name": "stderr",
     "output_type": "stream",
     "text": [
      "C:\\Users\\alex.merdian-tarko\\AppData\\Local\\Continuum\\anaconda3\\lib\\site-packages\\pandas\\io\\parsers.py:702: UserWarning: Duplicate names specified. This will raise an error in the future.\n",
      "  return _read(filepath_or_buffer, kwds)\n"
     ]
    },
    {
     "name": "stdout",
     "output_type": "stream",
     "text": [
      "Loading data complete.\n"
     ]
    }
   ],
   "source": [
    "column_headers = pd.read_csv('../data/mapping_files/column_headers.tsv', sep='\\t')\n",
    "columns = ['user_agent']\n",
    "df = pd.read_csv('../data/raw_data/'+input_file, compression='gzip', sep='\\t', encoding='iso-8859-1', quoting=3, low_memory=False, names=column_headers, usecols=columns)\n",
    "\n",
    "print('Loading data complete.')"
   ]
  },
  {
   "cell_type": "code",
   "execution_count": 7,
   "metadata": {},
   "outputs": [
    {
     "name": "stdout",
     "output_type": "stream",
     "text": [
      "Starting user agent device type, brand name, operating system and bot flag mapping...\n"
     ]
    }
   ],
   "source": [
    "### USER AGENT MAPPING\n",
    "print('Starting user agent device type, brand name, operating system and bot flag mapping...')"
   ]
  },
  {
   "cell_type": "code",
   "execution_count": 8,
   "metadata": {},
   "outputs": [],
   "source": [
    "# fill missing values\n",
    "df['user_agent'] = df['user_agent'].fillna('Unknown')\n",
    "\n",
    "# create dataframe for user agent mapping and fill with unique user agents\n",
    "columns = ['user_agent', \n",
    "           'device_type_user_agent', \n",
    "           'device_brand_name_user_agent', \n",
    "           'device_operating_system_user_agent', \n",
    "           'device_browser_user_agent', \n",
    "           'device_is_bot_user_agent']\n",
    "index = np.arange(df['user_agent'].nunique())\n",
    "user_agent_mapping_df = pd.DataFrame(index=index, columns=columns)\n",
    "user_agent_mapping_df['user_agent'] = df['user_agent'].unique()"
   ]
  },
  {
   "cell_type": "code",
   "execution_count": 9,
   "metadata": {},
   "outputs": [
    {
     "name": "stdout",
     "output_type": "stream",
     "text": [
      "User agent device type, brand name, operating system, browser and bot flag mapping complete.\n"
     ]
    }
   ],
   "source": [
    "# map device type\n",
    "user_agent_mapping_df['device_type_user_agent'] = user_agent_mapping_df['user_agent'].apply(lambda x: DeviceDetector(x).parse().device_type())\n",
    "user_agent_mapping_df['device_type_user_agent'] = user_agent_mapping_df['device_type_user_agent'].apply(lambda x: 'Unknown' if x == '' else x)\n",
    "\n",
    "# map brand name\n",
    "user_agent_mapping_df['device_brand_name_user_agent'] = user_agent_mapping_df['user_agent'].apply(lambda x: DeviceDetector(x).parse().device_brand_name())\n",
    "user_agent_mapping_df['device_brand_name_user_agent'] = user_agent_mapping_df['device_brand_name_user_agent'].apply(lambda x: 'Unknown' if x == 'UNK' else x)\n",
    "\n",
    "# map operating system\n",
    "user_agent_mapping_df['device_operating_system_user_agent'] = user_agent_mapping_df['user_agent'].apply(lambda x: DeviceDetector(x).parse().os_name())\n",
    "user_agent_mapping_df['device_operating_system_user_agent'] = user_agent_mapping_df['device_operating_system_user_agent'].apply(lambda x: 'Unknown' if x == '' else x)\n",
    "\n",
    "# map browser\n",
    "user_agent_mapping_df['device_browser_user_agent'] = user_agent_mapping_df['user_agent'].apply(lambda x: DeviceDetector(x).parse().client_name())\n",
    "\n",
    "# map bot flag\n",
    "user_agent_mapping_df['device_is_bot_user_agent'] = user_agent_mapping_df['user_agent'].apply(lambda x: DeviceDetector(x).parse().is_bot())\n",
    "user_agent_mapping_df['device_is_bot_user_agent'] = user_agent_mapping_df['device_is_bot_user_agent'].apply(lambda x: 1 if x == True else 0)\n",
    "\n",
    "print('User agent device type, brand name, operating system, browser and bot flag mapping complete.')"
   ]
  },
  {
   "cell_type": "code",
   "execution_count": 10,
   "metadata": {},
   "outputs": [
    {
     "name": "stdout",
     "output_type": "stream",
     "text": [
      "Writing dataframe to file...\n"
     ]
    }
   ],
   "source": [
    "### WRITE DATAFRAME TO FILE\n",
    "print('Writing dataframe to file...')"
   ]
  },
  {
   "cell_type": "code",
   "execution_count": 11,
   "metadata": {},
   "outputs": [],
   "source": [
    "user_agent_mapping_df.to_csv('../data/mapping_files/'+output_file, compression='gzip', sep='\\t', encoding='iso-8859-1', index=False)"
   ]
  },
  {
   "cell_type": "code",
   "execution_count": 12,
   "metadata": {},
   "outputs": [
    {
     "name": "stdout",
     "output_type": "stream",
     "text": [
      "User agent mapping complete.\n",
      "Run time:  0:08:01.069510\n"
     ]
    }
   ],
   "source": [
    "# save run time\n",
    "print('User agent mapping complete.')\n",
    "run_time = datetime.now() - start_time\n",
    "print('Run time: ', run_time)\n",
    "\n",
    "run_time_dict_file = 'user_agent_mapping_run_time.txt'\n",
    "run_time_dict = {'user agent mapping run time' : run_time}\n",
    "f = open('../results/descriptives/'+run_time_dict_file, 'w')\n",
    "f.write(str(run_time_dict))\n",
    "f.close()"
   ]
  }
 ],
 "metadata": {
  "kernelspec": {
   "display_name": "Python 3",
   "language": "python",
   "name": "python3"
  },
  "language_info": {
   "codemirror_mode": {
    "name": "ipython",
    "version": 3
   },
   "file_extension": ".py",
   "mimetype": "text/x-python",
   "name": "python",
   "nbconvert_exporter": "python",
   "pygments_lexer": "ipython3",
   "version": "3.7.2"
  }
 },
 "nbformat": 4,
 "nbformat_minor": 2
}
