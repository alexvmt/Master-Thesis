{
 "cells": [
  {
   "cell_type": "code",
   "execution_count": null,
   "metadata": {},
   "outputs": [],
   "source": [
    "##### CLEANING AND MAPPING #####"
   ]
  },
  {
   "cell_type": "code",
   "execution_count": null,
   "metadata": {},
   "outputs": [],
   "source": [
    "print('Starting cleaning and mapping...')"
   ]
  },
  {
   "cell_type": "code",
   "execution_count": null,
   "metadata": {},
   "outputs": [],
   "source": [
    "# import libraries\n",
    "from datetime import datetime,date\n",
    "start_time = datetime.now()\n",
    "print('Start time: ', start_time)\n",
    "\n",
    "import numpy as np\n",
    "import pandas as pd\n",
    "\n",
    "from helper_functions import *"
   ]
  },
  {
   "cell_type": "code",
   "execution_count": null,
   "metadata": {},
   "outputs": [],
   "source": [
    "# input files\n",
    "input_files = ['clickstream_0516_raw.tsv.gz',\n",
    "               'clickstream_0616_raw.tsv.gz', \n",
    "               'clickstream_0716_raw.tsv.gz', \n",
    "               'clickstream_0816_raw.tsv.gz', \n",
    "               'clickstream_0916_raw.tsv.gz', \n",
    "               'clickstream_1016_raw.tsv.gz']\n",
    "\n",
    "# output file\n",
    "output_file = 'clickstream_0516-1016_cleaned_and_mapped.tsv.gz'"
   ]
  },
  {
   "cell_type": "code",
   "execution_count": null,
   "metadata": {},
   "outputs": [],
   "source": [
    "# process input files\n",
    "for input_file in input_files:\n",
    "    \n",
    "    # load data\n",
    "    df = load_data(input_file)\n",
    "\n",
    "    # drop rows\n",
    "    df = drop_rows(df)\n",
    "\n",
    "    # browser mapping\n",
    "    df = browser_mapping(df)\n",
    "\n",
    "    # connection type mapping\n",
    "    df = connection_type_mapping(df)\n",
    "\n",
    "    # country mapping\n",
    "    df = country_mapping(df)\n",
    "\n",
    "    # custom evars mapping\n",
    "    df = custom_evars_mapping(df)\n",
    "\n",
    "    # custom marketing channel mapping\n",
    "    df = custom_marketing_channel_mapping(df)\n",
    "\n",
    "    # standard and custom events mapping\n",
    "    df = custom_and_standard_events_mapping(df)\n",
    "\n",
    "    # operating system mapping\n",
    "    df = operating_system_mapping(df)\n",
    "\n",
    "    # referrer type mapping\n",
    "    df = referrer_type_mapping(df)\n",
    "\n",
    "    # search engine mapping\n",
    "    df = search_engine_mapping(df)\n",
    "\n",
    "    # user agent mapping\n",
    "    df = user_agent_mapping(df)\n",
    "\n",
    "    # process product items, prices and categories\n",
    "    df = process_product_items_prices_and_categories(df)\n",
    "\n",
    "    # fill missing and faulty values\n",
    "    df = fill_missing_and_faulty_values(df)\n",
    "\n",
    "    # cast data types\n",
    "    df = cast_data_types(df)\n",
    "\n",
    "    # rename columns\n",
    "    df = rename_columns(df)\n",
    "\n",
    "    # drop columns\n",
    "    df = drop_columns(df)\n",
    "\n",
    "    # write data\n",
    "    write_data(df, output_file)"
   ]
  },
  {
   "cell_type": "code",
   "execution_count": null,
   "metadata": {},
   "outputs": [],
   "source": [
    "# save run time\n",
    "print('Cleaning and mapping complete.')\n",
    "run_time = datetime.now() - start_time\n",
    "print('Run time: ', run_time)\n",
    "\n",
    "run_time_dict_file = 'cleaning_and_mapping_run_time.txt'\n",
    "run_time_dict = {'cleaning and mapping run time' : run_time}\n",
    "f = open('../results/descriptives/'+run_time_dict_file, 'w')\n",
    "f.write(str(run_time_dict))\n",
    "f.close()"
   ]
  }
 ],
 "metadata": {
  "kernelspec": {
   "display_name": "Python 3",
   "language": "python",
   "name": "python3"
  },
  "language_info": {
   "codemirror_mode": {
    "name": "ipython",
    "version": 3
   },
   "file_extension": ".py",
   "mimetype": "text/x-python",
   "name": "python",
   "nbconvert_exporter": "python",
   "pygments_lexer": "ipython3",
   "version": "3.7.2"
  }
 },
 "nbformat": 4,
 "nbformat_minor": 2
}
