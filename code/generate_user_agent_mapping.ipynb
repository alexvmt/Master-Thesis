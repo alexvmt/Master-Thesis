{
 "cells": [
  {
   "cell_type": "code",
   "execution_count": null,
   "metadata": {},
   "outputs": [],
   "source": [
    "##### GENERATE USER AGENT MAPPING #####"
   ]
  },
  {
   "cell_type": "code",
   "execution_count": null,
   "metadata": {},
   "outputs": [],
   "source": [
    "print('Starting generating user agent mapping...')"
   ]
  },
  {
   "cell_type": "code",
   "execution_count": null,
   "metadata": {},
   "outputs": [],
   "source": [
    "# import libraries\n",
    "from datetime import datetime,date\n",
    "start_time = datetime.now()\n",
    "print('Start time: ', start_time)\n",
    "\n",
    "import numpy as np\n",
    "import pandas as pd\n",
    "from device_detector import DeviceDetector\n",
    "\n",
    "from helper_functions import *"
   ]
  },
  {
   "cell_type": "code",
   "execution_count": null,
   "metadata": {},
   "outputs": [],
   "source": [
    "# input file\n",
    "input_file = 'clickstream_0516-1016_raw.tsv.gz'\n",
    "\n",
    "# output file\n",
    "output_file = 'user_agent_mapping.tsv.gz'"
   ]
  },
  {
   "cell_type": "code",
   "execution_count": null,
   "metadata": {},
   "outputs": [],
   "source": [
    "# generate user agent mapping\n",
    "generate_user_agent_mapping(input_file, output_file)"
   ]
  },
  {
   "cell_type": "code",
   "execution_count": null,
   "metadata": {},
   "outputs": [],
   "source": [
    "# save run time\n",
    "print('Generating user agent mapping complete.')\n",
    "run_time = datetime.now() - start_time\n",
    "print('Run time: ', run_time)\n",
    "\n",
    "run_time_dict_file = 'generate_user_agent_mapping_run_time.txt'\n",
    "run_time_dict = {'generate user agent mapping run time' : run_time}\n",
    "\n",
    "save_run_time(run_time_dict_file, run_time_dict)"
   ]
  }
 ],
 "metadata": {
  "kernelspec": {
   "display_name": "Python 3",
   "language": "python",
   "name": "python3"
  },
  "language_info": {
   "codemirror_mode": {
    "name": "ipython",
    "version": 3
   },
   "file_extension": ".py",
   "mimetype": "text/x-python",
   "name": "python",
   "nbconvert_exporter": "python",
   "pygments_lexer": "ipython3",
   "version": "3.7.2"
  }
 },
 "nbformat": 4,
 "nbformat_minor": 2
}
