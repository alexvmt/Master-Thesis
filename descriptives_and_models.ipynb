{
 "cells": [
  {
   "cell_type": "code",
   "execution_count": 1,
   "metadata": {},
   "outputs": [],
   "source": [
    "##### DESCRIPTIVES AND MODELS #####"
   ]
  },
  {
   "cell_type": "code",
   "execution_count": 2,
   "metadata": {},
   "outputs": [],
   "source": [
    "### import libraries\n",
    "import numpy as np\n",
    "import pandas as pd\n",
    "from datetime import datetime,date"
   ]
  },
  {
   "cell_type": "code",
   "execution_count": 3,
   "metadata": {},
   "outputs": [
    {
     "name": "stdout",
     "output_type": "stream",
     "text": [
      "Start time:  2019-02-14 17:15:21.485716\n"
     ]
    }
   ],
   "source": [
    "start_time = datetime.now()\n",
    "print('Start time: ', start_time)"
   ]
  },
  {
   "cell_type": "code",
   "execution_count": 4,
   "metadata": {},
   "outputs": [
    {
     "name": "stdout",
     "output_type": "stream",
     "text": [
      "Loading data...\n"
     ]
    }
   ],
   "source": [
    "##### LOAD DATA\n",
    "print('Loading data...')"
   ]
  },
  {
   "cell_type": "code",
   "execution_count": 5,
   "metadata": {},
   "outputs": [],
   "source": [
    "df = pd.read_csv('../data/processed_data/session_level_data_final.tsv.gz', compression='gzip', sep='\\t', low_memory=False, encoding='iso-8859-1', parse_dates=['hit_time_gmt'])"
   ]
  },
  {
   "cell_type": "code",
   "execution_count": 6,
   "metadata": {},
   "outputs": [
    {
     "name": "stdout",
     "output_type": "stream",
     "text": [
      "Calculating descriptives...\n"
     ]
    }
   ],
   "source": [
    "##### DESCRIPTIVES\n",
    "print('Calculating descriptives...')"
   ]
  },
  {
   "cell_type": "code",
   "execution_count": 7,
   "metadata": {},
   "outputs": [],
   "source": [
    "descriptives_dict = {'unique_visitors':df['visitor_id'].nunique(),\n",
    "                     'visits':df.shape[0],\n",
    "                     'percentage_purchases':round(df['purchase'].value_counts()[1]/(df['purchase'].value_counts()[0]+df['purchase'].value_counts()[1]), 4),\n",
    "                     'features':df.shape[1]}"
   ]
  },
  {
   "cell_type": "code",
   "execution_count": 8,
   "metadata": {},
   "outputs": [
    {
     "name": "stdout",
     "output_type": "stream",
     "text": [
      "{'unique_visitors': 188746, 'visits': 214009, 'percentage_purchases': 0.0077}\n"
     ]
    }
   ],
   "source": [
    "print(descriptives_dict)"
   ]
  },
  {
   "cell_type": "code",
   "execution_count": 9,
   "metadata": {},
   "outputs": [],
   "source": [
    "##### PREPARE DATA FOR MODELING #####"
   ]
  },
  {
   "cell_type": "code",
   "execution_count": 10,
   "metadata": {},
   "outputs": [],
   "source": [
    "y_train = df[df['hit_time_gmt'] <= '2016-05-10 23:59:59']['purchase']\n",
    "X_train = df[df['hit_time_gmt'] <= '2016-05-10 23:59:59'].copy()\n",
    "X_train.drop(['purchase', 'hit_time_gmt', 'visitor_id'], axis=1, inplace=True)"
   ]
  },
  {
   "cell_type": "code",
   "execution_count": 11,
   "metadata": {},
   "outputs": [],
   "source": [
    "y_test = df[df['hit_time_gmt'] > '2016-05-10 23:59:59']['purchase']\n",
    "X_test = df[df['hit_time_gmt'] > '2016-05-10 23:59:59'].copy()\n",
    "X_test.drop(['purchase', 'hit_time_gmt', 'visitor_id'], axis=1, inplace=True)"
   ]
  },
  {
   "cell_type": "code",
   "execution_count": 12,
   "metadata": {},
   "outputs": [],
   "source": [
    "##### TRAIN AND TEST MODELS #####"
   ]
  },
  {
   "cell_type": "code",
   "execution_count": 13,
   "metadata": {},
   "outputs": [],
   "source": [
    "### import libraries needed for modeling and performance evaluation\n",
    "from sklearn.linear_model import LogisticRegression\n",
    "from sklearn.model_selection import KFold,cross_val_score\n",
    "from sklearn.metrics import accuracy_score,roc_curve,auc,confusion_matrix,classification_report"
   ]
  },
  {
   "cell_type": "code",
   "execution_count": 14,
   "metadata": {},
   "outputs": [],
   "source": [
    "lr = LogisticRegression()"
   ]
  },
  {
   "cell_type": "code",
   "execution_count": 15,
   "metadata": {},
   "outputs": [
    {
     "name": "stdout",
     "output_type": "stream",
     "text": [
      "[0.99310526 0.99349924 0.99218596 0.99211978 0.99349882 0.99461518\n",
      " 0.99218545 0.99277646 0.9929078  0.99277646]\n",
      "0.9929670423531288\n",
      "0.0007291417564941376\n"
     ]
    }
   ],
   "source": [
    "kfold = KFold(n_splits=10, random_state=42)\n",
    "cv_results = cross_val_score(lr, X_train, y_train, cv=kfold, scoring='accuracy')\n",
    "print(cv_results)\n",
    "print(cv_results.mean())\n",
    "print(cv_results.std())"
   ]
  },
  {
   "cell_type": "code",
   "execution_count": 16,
   "metadata": {},
   "outputs": [
    {
     "data": {
      "text/plain": [
       "LogisticRegression(C=1.0, class_weight=None, dual=False, fit_intercept=True,\n",
       "          intercept_scaling=1, max_iter=100, multi_class='ovr', n_jobs=1,\n",
       "          penalty='l2', random_state=None, solver='liblinear', tol=0.0001,\n",
       "          verbose=0, warm_start=False)"
      ]
     },
     "execution_count": 16,
     "metadata": {},
     "output_type": "execute_result"
    }
   ],
   "source": [
    "lr.fit(X_train, y_train)"
   ]
  },
  {
   "cell_type": "code",
   "execution_count": 17,
   "metadata": {},
   "outputs": [],
   "source": [
    "y_pred = lr.predict(X_test)"
   ]
  },
  {
   "cell_type": "code",
   "execution_count": 18,
   "metadata": {},
   "outputs": [],
   "source": [
    "##### EVALUATE MODELS #####"
   ]
  },
  {
   "cell_type": "code",
   "execution_count": 19,
   "metadata": {},
   "outputs": [
    {
     "name": "stdout",
     "output_type": "stream",
     "text": [
      "Accuracy: 99.11%\n",
      "\n",
      "\n",
      "AUC: 0.52\n",
      "\n",
      "\n",
      "Confusion matrix\n",
      "[[61156    24]\n",
      " [  527    19]]\n",
      "\n",
      "\n",
      "Classification report\n",
      "             precision    recall  f1-score   support\n",
      "\n",
      "          0       0.99      1.00      1.00     61180\n",
      "          1       0.44      0.03      0.06       546\n",
      "\n",
      "avg / total       0.99      0.99      0.99     61726\n",
      "\n"
     ]
    }
   ],
   "source": [
    "accuracy = accuracy_score(y_test, y_pred)\n",
    "print('Accuracy: %.2f%%' % (accuracy * 100.0))\n",
    "print('\\n')\n",
    "fpr, tpr, thresholds = roc_curve(y_test, y_pred)\n",
    "print('AUC: %.2f' % auc(fpr, tpr))\n",
    "print('\\n')\n",
    "print('Confusion matrix')\n",
    "print(confusion_matrix(y_test, y_pred))\n",
    "print('\\n')\n",
    "print('Classification report')\n",
    "print(classification_report(y_test, y_pred))\n",
    "\n",
    "# true negatives C[0,0] false negatives C[1,0] true positives C[1,1] false positives is C[0,1]"
   ]
  },
  {
   "cell_type": "code",
   "execution_count": 20,
   "metadata": {},
   "outputs": [
    {
     "name": "stdout",
     "output_type": "stream",
     "text": [
      "Total execution time:  0:02:23.391521\n"
     ]
    }
   ],
   "source": [
    "print('Total execution time: ', datetime.now() - start_time)"
   ]
  }
 ],
 "metadata": {
  "kernelspec": {
   "display_name": "Python 3",
   "language": "python",
   "name": "python3"
  },
  "language_info": {
   "codemirror_mode": {
    "name": "ipython",
    "version": 3
   },
   "file_extension": ".py",
   "mimetype": "text/x-python",
   "name": "python",
   "nbconvert_exporter": "python",
   "pygments_lexer": "ipython3",
   "version": "3.7.0"
  }
 },
 "nbformat": 4,
 "nbformat_minor": 2
}
