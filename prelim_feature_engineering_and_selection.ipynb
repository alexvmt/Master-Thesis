{
 "cells": [
  {
   "cell_type": "code",
   "execution_count": null,
   "metadata": {},
   "outputs": [],
   "source": [
    "##### PRELIMINARY FEATURE ENGINEERING AND SELECTION #####"
   ]
  },
  {
   "cell_type": "code",
   "execution_count": null,
   "metadata": {},
   "outputs": [],
   "source": [
    "### import libraries\n",
    "import pandas as pd\n",
    "import numpy as np\n",
    "from datetime import datetime,date"
   ]
  },
  {
   "cell_type": "code",
   "execution_count": null,
   "metadata": {},
   "outputs": [],
   "source": [
    "start_time = datetime.now()\n",
    "print('Start time: ', start_time)"
   ]
  },
  {
   "cell_type": "code",
   "execution_count": null,
   "metadata": {},
   "outputs": [],
   "source": [
    "##### LOAD DATA\n",
    "print('Loading data...')"
   ]
  },
  {
   "cell_type": "code",
   "execution_count": null,
   "metadata": {},
   "outputs": [],
   "source": [
    "df = pd.read_csv('../data/processed_data/session_level_data_merged.tsv', sep='\\t', low_memory=False, encoding='iso-8859-1', parse_dates=['hit_time_gmt', 'last_hit_time_gmt_visit'])"
   ]
  },
  {
   "cell_type": "code",
   "execution_count": null,
   "metadata": {},
   "outputs": [],
   "source": [
    "print('Time passed since start: ', datetime.now() - start_time)"
   ]
  },
  {
   "cell_type": "code",
   "execution_count": null,
   "metadata": {},
   "outputs": [],
   "source": [
    "### ENCODE TARGET\n",
    "print('Encoding target...')"
   ]
  },
  {
   "cell_type": "code",
   "execution_count": null,
   "metadata": {},
   "outputs": [],
   "source": [
    "# binary encode target to be either 1 or 0\n",
    "df['purchase'] = df['purchase'].apply(lambda x: 1 if x >= 1 else 0)"
   ]
  },
  {
   "cell_type": "code",
   "execution_count": null,
   "metadata": {},
   "outputs": [],
   "source": [
    "print('Time passed since start: ', datetime.now() - start_time)"
   ]
  },
  {
   "cell_type": "code",
   "execution_count": null,
   "metadata": {},
   "outputs": [],
   "source": [
    "### ADD FEATURES\n",
    "print('Adding features...')"
   ]
  },
  {
   "cell_type": "code",
   "execution_count": null,
   "metadata": {},
   "outputs": [],
   "source": [
    "# add flag to indicate bounce\n",
    "df['bounce'] = df['visit_page_num'].apply(lambda x: 1 if x == 1 else 0)"
   ]
  },
  {
   "cell_type": "code",
   "execution_count": null,
   "metadata": {},
   "outputs": [],
   "source": [
    "### add time features\n",
    "# sort dataframe by visitor_id, visit_num and hit_time_gmt_min\n",
    "df = df.sort_values(['visitor_id', 'visit_num', 'hit_time_gmt', 'last_hit_time_gmt_visit'], ascending=[True, True, True, True])\n",
    "\n",
    "# day of week\n",
    "df['day_of_week'] = df['hit_time_gmt'].dt.dayofweek\n",
    "\n",
    "# hour of day\n",
    "df['hour_of_day'] = df['hit_time_gmt'].dt.hour\n",
    "\n",
    "# calculate visit duration in seconds\n",
    "df['visit_duration_seconds'] = df['last_hit_time_gmt_visit'] - df['hit_time_gmt']\n",
    "df['visit_duration_seconds'] = df['visit_duration_seconds'].apply(lambda x: x.seconds)\n",
    "\n",
    "# add lag columns for visitor_id and last_hit_time_gmt_visit\n",
    "df['visitor_id_lag'] = df['visitor_id'].shift(1)\n",
    "df['last_hit_time_gmt_visit_lag'] = df['last_hit_time_gmt_visit'].shift(1)\n",
    "\n",
    "# calculate days since last visit\n",
    "df['days_since_last_visit'] = df.apply(lambda x: x['hit_time_gmt'] - x['last_hit_time_gmt_visit_lag'] \n",
    "                                       if x['visitor_id'] == x['visitor_id_lag'] \n",
    "                                       else np.nan, axis=1)\n",
    "df['days_since_last_visit'] = df['days_since_last_visit'].apply(lambda x: x.days)\n",
    "\n",
    "# days since last purchase"
   ]
  },
  {
   "cell_type": "code",
   "execution_count": null,
   "metadata": {},
   "outputs": [],
   "source": [
    "### buckets for past purchases, past visits, product views, page views\n",
    "df['visit_in_last_7_days'] = df['days_since_last_visit'].apply(lambda x: 1 if (x >=1) & (x <= 7) else 0)"
   ]
  },
  {
   "cell_type": "code",
   "execution_count": null,
   "metadata": {},
   "outputs": [],
   "source": [
    "print('Time passed since start: ', datetime.now() - start_time)"
   ]
  },
  {
   "cell_type": "code",
   "execution_count": null,
   "metadata": {},
   "outputs": [],
   "source": [
    "### ENCODE CATEGORICAL FEATURES\n",
    "print('Encoding categorical features...')"
   ]
  },
  {
   "cell_type": "code",
   "execution_count": null,
   "metadata": {},
   "outputs": [],
   "source": [
    "### encode categorical features\n",
    "df.drop(['visitor_id', \n",
    "         'visitor_id_lag', \n",
    "         'last_hit_time_gmt_visit', \n",
    "         'last_hit_time_gmt_visit_lag',\n",
    "         'days_since_last_visit'], axis=1, inplace=True)\n",
    "object_cols = list(df.select_dtypes(include=['object']).columns)\n",
    "dummies = pd.get_dummies(df.loc[:, df.columns.isin(object_cols)], drop_first=True)\n",
    "df.drop(object_cols, axis=1, inplace=True)\n",
    "df = pd.concat([df, dummies], axis=1)"
   ]
  },
  {
   "cell_type": "code",
   "execution_count": null,
   "metadata": {},
   "outputs": [],
   "source": [
    "print('Time passed since start: ', datetime.now() - start_time)"
   ]
  },
  {
   "cell_type": "code",
   "execution_count": null,
   "metadata": {},
   "outputs": [],
   "source": [
    "### WRITE DATA TO FILE"
   ]
  },
  {
   "cell_type": "code",
   "execution_count": null,
   "metadata": {},
   "outputs": [],
   "source": [
    "df.to_csv('../data/processed_data/session_level_data_final.tsv', sep='\\t', encoding='iso-8859-1', index=False)"
   ]
  },
  {
   "cell_type": "code",
   "execution_count": null,
   "metadata": {},
   "outputs": [],
   "source": [
    "print('Total execution time: ', datetime.now() - start_time)"
   ]
  }
 ],
 "metadata": {
  "kernelspec": {
   "display_name": "Python 3",
   "language": "python",
   "name": "python3"
  },
  "language_info": {
   "codemirror_mode": {
    "name": "ipython",
    "version": 3
   },
   "file_extension": ".py",
   "mimetype": "text/x-python",
   "name": "python",
   "nbconvert_exporter": "python",
   "pygments_lexer": "ipython3",
   "version": "3.7.0"
  }
 },
 "nbformat": 4,
 "nbformat_minor": 2
}
