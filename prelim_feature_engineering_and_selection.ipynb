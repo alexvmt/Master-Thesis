{
 "cells": [
  {
   "cell_type": "code",
   "execution_count": 1,
   "metadata": {},
   "outputs": [],
   "source": [
    "##### PRELIMINARY FEATURE ENGINEERING AND SELECTION #####"
   ]
  },
  {
   "cell_type": "code",
   "execution_count": 2,
   "metadata": {},
   "outputs": [],
   "source": [
    "### import libraries\n",
    "import pandas as pd\n",
    "import numpy as np\n",
    "from datetime import datetime,date"
   ]
  },
  {
   "cell_type": "code",
   "execution_count": 3,
   "metadata": {},
   "outputs": [
    {
     "name": "stdout",
     "output_type": "stream",
     "text": [
      "Start time:  2019-02-14 16:19:51.620550\n"
     ]
    }
   ],
   "source": [
    "start_time = datetime.now()\n",
    "print('Start time: ', start_time)"
   ]
  },
  {
   "cell_type": "code",
   "execution_count": 4,
   "metadata": {},
   "outputs": [
    {
     "name": "stdout",
     "output_type": "stream",
     "text": [
      "Loading data...\n"
     ]
    }
   ],
   "source": [
    "##### LOAD DATA\n",
    "print('Loading data...')"
   ]
  },
  {
   "cell_type": "code",
   "execution_count": 5,
   "metadata": {},
   "outputs": [],
   "source": [
    "df = pd.read_csv('../data/processed_data/session_level_data_merged.tsv.gz', compression='gzip', sep='\\t', low_memory=False, encoding='iso-8859-1', parse_dates=['hit_time_gmt', 'last_hit_time_gmt_visit'])"
   ]
  },
  {
   "cell_type": "code",
   "execution_count": 6,
   "metadata": {},
   "outputs": [
    {
     "name": "stdout",
     "output_type": "stream",
     "text": [
      "Time passed since start:  0:00:06.260729\n"
     ]
    }
   ],
   "source": [
    "print('Time passed since start: ', datetime.now() - start_time)"
   ]
  },
  {
   "cell_type": "code",
   "execution_count": 7,
   "metadata": {},
   "outputs": [
    {
     "name": "stdout",
     "output_type": "stream",
     "text": [
      "Encoding target...\n"
     ]
    }
   ],
   "source": [
    "### ENCODE TARGET\n",
    "print('Encoding target...')"
   ]
  },
  {
   "cell_type": "code",
   "execution_count": 8,
   "metadata": {},
   "outputs": [],
   "source": [
    "# binary encode target to be either 1 or 0\n",
    "df['purchase'] = df['purchase'].apply(lambda x: 1 if x >= 1 else 0)"
   ]
  },
  {
   "cell_type": "code",
   "execution_count": 9,
   "metadata": {},
   "outputs": [
    {
     "name": "stdout",
     "output_type": "stream",
     "text": [
      "Time passed since start:  0:00:06.454289\n"
     ]
    }
   ],
   "source": [
    "print('Time passed since start: ', datetime.now() - start_time)"
   ]
  },
  {
   "cell_type": "code",
   "execution_count": 10,
   "metadata": {},
   "outputs": [
    {
     "name": "stdout",
     "output_type": "stream",
     "text": [
      "Adding features...\n"
     ]
    }
   ],
   "source": [
    "### ADD FEATURES\n",
    "print('Adding features...')"
   ]
  },
  {
   "cell_type": "code",
   "execution_count": 11,
   "metadata": {},
   "outputs": [],
   "source": [
    "### add time features\n",
    "# sort dataframe by visitor_id, visit_num, hit_time_gmt and last_hit_time_gmt_visit\n",
    "df = df.sort_values(['visitor_id', 'visit_num', 'hit_time_gmt', 'last_hit_time_gmt_visit'], ascending=[True, True, True, True])\n",
    "\n",
    "# day of week\n",
    "df['day_of_week'] = df['hit_time_gmt'].dt.dayofweek\n",
    "\n",
    "# hour of day\n",
    "df['hour_of_day'] = df['hit_time_gmt'].dt.hour\n",
    "\n",
    "# calculate visit duration in seconds\n",
    "df['visit_duration_seconds'] = df['last_hit_time_gmt_visit'] - df['hit_time_gmt']\n",
    "df['visit_duration_seconds'] = df['visit_duration_seconds'].apply(lambda x: x.seconds)\n",
    "\n",
    "# add lag columns for visitor_id and last_hit_time_gmt_visit\n",
    "df['visitor_id_lag'] = df['visitor_id'].shift(1)\n",
    "df['last_hit_time_gmt_visit_lag'] = df['last_hit_time_gmt_visit'].shift(1)\n",
    "\n",
    "# calculate days since last visit and add flag for visit in last 7 days\n",
    "df['days_since_last_visit'] = df.apply(lambda x: x['hit_time_gmt'] - x['last_hit_time_gmt_visit_lag'] \n",
    "                                       if x['visitor_id'] == x['visitor_id_lag'] \n",
    "                                       else np.nan, axis=1)\n",
    "df['days_since_last_visit'] = df['days_since_last_visit'].apply(lambda x: x.days)\n",
    "df['visit_in_last_7_days'] = df['days_since_last_visit'].apply(lambda x: 1 if (x >=0) & (x <= 7) else 0)\n",
    "\n",
    "# calculate days since last purchase and add flag for purchase in last 7 days\n",
    "df['purchase_date'] = df.apply(lambda x: x['hit_time_gmt'] if x['purchase'] == 1 else np.nan, axis=1)\n",
    "purchases = df[df['purchase'] == 1][['visitor_id', 'purchase_date']]\n",
    "purchases = purchases.sort_values(['visitor_id', 'purchase_date'], ascending=[True, True])\n",
    "purchases['visitor_id_lag'] = purchases['visitor_id'].shift(1)\n",
    "purchases['purchase_date_lag'] = purchases['purchase_date'].shift(1)\n",
    "purchases['days_since_last_purchase'] = purchases.apply(lambda x: x['purchase_date'] - x['purchase_date_lag']\n",
    "                                                  if x['visitor_id'] == x['visitor_id_lag']\n",
    "                                                  else np.nan, axis=1)\n",
    "\n",
    "purchases['days_since_last_purchase'] = purchases['days_since_last_purchase'].apply(lambda x: x.days)\n",
    "purchases['purchase_in_last_7_days'] = purchases['days_since_last_purchase'].apply(lambda x: 1 if (x >=0) & (x <= 7) else 0)\n",
    "purchases['purchase_num_period'] = purchases.groupby('visitor_id').cumcount()\n",
    "purchases['purchase_num_period'] = purchases['purchase_num_period'] + 1\n",
    "purchases.drop('visitor_id_lag', axis=1, inplace=True)\n",
    "\n",
    "df = pd.merge(df, purchases, on=['visitor_id', 'purchase_date'], how='left')\n",
    "df['purchase_in_last_7_days'] = df['purchase_in_last_7_days'].fillna(0).astype(np.int64)\n",
    "df['purchase_num_period'] = df['purchase_num_period'].fillna(0).astype(np.int64)"
   ]
  },
  {
   "cell_type": "code",
   "execution_count": 12,
   "metadata": {},
   "outputs": [],
   "source": [
    "# add visit number in the current period\n",
    "df['visit_num_period'] = df.groupby('visitor_id').cumcount()\n",
    "df['visit_num_period'] = df['visit_num_period'] + 1"
   ]
  },
  {
   "cell_type": "code",
   "execution_count": 13,
   "metadata": {},
   "outputs": [],
   "source": [
    "# add flag to indicate bounce\n",
    "df['bounce'] = df['visit_page_num'].apply(lambda x: 1 if x == 1 else 0)"
   ]
  },
  {
   "cell_type": "code",
   "execution_count": 14,
   "metadata": {},
   "outputs": [],
   "source": [
    "# add flag to indicate visit from Switzerland\n",
    "df['Switzerland'] = df['country'].apply(lambda x: 1 if x == 'Switzerland' else 0)"
   ]
  },
  {
   "cell_type": "code",
   "execution_count": 15,
   "metadata": {},
   "outputs": [
    {
     "name": "stdout",
     "output_type": "stream",
     "text": [
      "Time passed since start:  0:00:38.287481\n"
     ]
    }
   ],
   "source": [
    "print('Time passed since start: ', datetime.now() - start_time)"
   ]
  },
  {
   "cell_type": "code",
   "execution_count": 16,
   "metadata": {},
   "outputs": [
    {
     "name": "stdout",
     "output_type": "stream",
     "text": [
      "Encoding categorical features...\n"
     ]
    }
   ],
   "source": [
    "### ENCODE CATEGORICAL FEATURES\n",
    "print('Encoding categorical features...')"
   ]
  },
  {
   "cell_type": "code",
   "execution_count": 17,
   "metadata": {},
   "outputs": [],
   "source": [
    "### encode categorical features\n",
    "df.drop(['visitor_id_lag', \n",
    "         'last_hit_time_gmt_visit', \n",
    "         'last_hit_time_gmt_visit_lag',\n",
    "         'purchase_date',\n",
    "         'purchase_date_lag',\n",
    "         'days_since_last_visit',\n",
    "         'days_since_last_purchase',\n",
    "         # temporarily drop columns where use is unclear or they have many missing values\n",
    "         'country', \n",
    "         'geo_city',\n",
    "         'geo_dma',\n",
    "         'geo_region',\n",
    "         'geo_zip',\n",
    "         'user_gender_(v61)',\n",
    "         'user_age_(v62)',\n",
    "         'net_promoter_score_raw_(v10)_-_user',\n",
    "         'product_categories_level_1',\n",
    "         'product_categories_level_2',\n",
    "         'product_categories_level_3',\n",
    "         'post_channel'], axis=1, inplace=True)\n",
    "object_cols = list(df.select_dtypes(include=['object']).columns)\n",
    "object_cols.remove('visitor_id')\n",
    "dummies = pd.get_dummies(df.loc[:, df.columns.isin(object_cols)], drop_first=True)\n",
    "df.drop(object_cols, axis=1, inplace=True)\n",
    "df = pd.concat([df, dummies], axis=1)\n",
    "\n",
    "# encode day of week and hour of day\n",
    "df = pd.get_dummies(df, columns=['day_of_week', 'hour_of_day'], prefix=['day', 'hour'])\n",
    "\n",
    "### note on columns\n",
    "# cart_open not filled\n",
    "# post_channel contains 'Order Confirmation'\n",
    "# static columns: registration_(any_form)_(e20), newsletter_signup_(any_form)_(e26), newsletter_subscriber_(e27), registration_fail_(e75)\n",
    "# columns with lots of missing values: NPS, gender, age"
   ]
  },
  {
   "cell_type": "code",
   "execution_count": 18,
   "metadata": {},
   "outputs": [
    {
     "name": "stdout",
     "output_type": "stream",
     "text": [
      "Time passed since start:  0:00:39.104862\n"
     ]
    }
   ],
   "source": [
    "print('Time passed since start: ', datetime.now() - start_time)"
   ]
  },
  {
   "cell_type": "code",
   "execution_count": 19,
   "metadata": {},
   "outputs": [
    {
     "name": "stdout",
     "output_type": "stream",
     "text": [
      "Writing data to file...\n"
     ]
    }
   ],
   "source": [
    "### WRITE DATA TO FILE\n",
    "print('Writing data to file...')"
   ]
  },
  {
   "cell_type": "code",
   "execution_count": 20,
   "metadata": {},
   "outputs": [],
   "source": [
    "df.to_csv('../data/processed_data/session_level_data_final.tsv.gz', compression='gzip', sep='\\t', encoding='iso-8859-1', index=False)"
   ]
  },
  {
   "cell_type": "code",
   "execution_count": 21,
   "metadata": {},
   "outputs": [
    {
     "name": "stdout",
     "output_type": "stream",
     "text": [
      "Total execution time:  0:01:28.751537\n"
     ]
    }
   ],
   "source": [
    "print('Total execution time: ', datetime.now() - start_time)"
   ]
  }
 ],
 "metadata": {
  "kernelspec": {
   "display_name": "Python 3",
   "language": "python",
   "name": "python3"
  },
  "language_info": {
   "codemirror_mode": {
    "name": "ipython",
    "version": 3
   },
   "file_extension": ".py",
   "mimetype": "text/x-python",
   "name": "python",
   "nbconvert_exporter": "python",
   "pygments_lexer": "ipython3",
   "version": "3.7.0"
  }
 },
 "nbformat": 4,
 "nbformat_minor": 2
}
