{
 "cells": [
  {
   "cell_type": "code",
   "execution_count": 1,
   "metadata": {},
   "outputs": [],
   "source": [
    "import numpy as np\n",
    "import pandas as pd\n",
    "import matplotlib.pyplot as plt\n",
    "import matplotlib.patches as mpatches\n",
    "import seaborn as sns\n",
    "from sklearn.feature_selection import SelectKBest, f_classif\n",
    "\n",
    "pd.options.display.float_format = '{:20,.4f}'.format\n",
    "pd.set_option('display.max_rows', 500)\n",
    "%matplotlib inline"
   ]
  },
  {
   "cell_type": "markdown",
   "metadata": {},
   "source": [
    "## 3. Related Work"
   ]
  },
  {
   "cell_type": "markdown",
   "metadata": {},
   "source": [
    "### 3.1. Comparative Machine Learning Studies"
   ]
  },
  {
   "cell_type": "markdown",
   "metadata": {},
   "source": [
    "### 3.2. Comparative Machine Learning Studies Focused on Customer Journey Prediction in E-Commerce"
   ]
  },
  {
   "cell_type": "markdown",
   "metadata": {},
   "source": [
    "## 5. Experiments"
   ]
  },
  {
   "cell_type": "markdown",
   "metadata": {},
   "source": [
    "### 5.3. Descriptive Statistics"
   ]
  },
  {
   "cell_type": "code",
   "execution_count": null,
   "metadata": {},
   "outputs": [],
   "source": [
    "cs5 = pd.read_pickle('../results/descriptives/raw_and_cleaned_hits_clickstream_0516.pkl.gz')\n",
    "cs6 = pd.read_pickle('../results/descriptives/raw_and_cleaned_hits_clickstream_0616.pkl.gz')\n",
    "cs7 = pd.read_pickle('../results/descriptives/raw_and_cleaned_hits_clickstream_0716.pkl.gz')\n",
    "cs8 = pd.read_pickle('../results/descriptives/raw_and_cleaned_hits_clickstream_0816.pkl.gz')\n",
    "cs9 = pd.read_pickle('../results/descriptives/raw_and_cleaned_hits_clickstream_0916.pkl.gz')\n",
    "cs10 = pd.read_pickle('../results/descriptives/raw_and_cleaned_hits_clickstream_1016.pkl.gz')"
   ]
  },
  {
   "cell_type": "code",
   "execution_count": null,
   "metadata": {},
   "outputs": [],
   "source": [
    "cs = cs5\n",
    "for df in [cs6, cs7, cs8, cs9, cs10]:\n",
    "    cs = cs.append(df)"
   ]
  },
  {
   "cell_type": "code",
   "execution_count": null,
   "metadata": {},
   "outputs": [],
   "source": [
    "cs['raw_hits'].sum()"
   ]
  },
  {
   "cell_type": "code",
   "execution_count": null,
   "metadata": {},
   "outputs": [],
   "source": [
    "cs['cleaned_hits'].sum()"
   ]
  },
  {
   "cell_type": "code",
   "execution_count": null,
   "metadata": {},
   "outputs": [],
   "source": [
    "desc100k = pd.read_pickle('../results/descriptives/descriptives_100000.pkl.gz')\n",
    "desc200k = pd.read_pickle('../results/descriptives/descriptives_200000.pkl.gz')\n",
    "desc400k = pd.read_pickle('../results/descriptives/descriptives_400000.pkl.gz')\n",
    "desc800k = pd.read_pickle('../results/descriptives/descriptives_800000.pkl.gz')\n",
    "desc1600k = pd.read_pickle('../results/descriptives/descriptives_1600000.pkl.gz')"
   ]
  },
  {
   "cell_type": "code",
   "execution_count": null,
   "metadata": {},
   "outputs": [],
   "source": [
    "desc = desc100k\n",
    "for df in [desc200k, desc400k, desc800k, desc1600k]:\n",
    "    desc = desc.append(df)"
   ]
  },
  {
   "cell_type": "code",
   "execution_count": null,
   "metadata": {},
   "outputs": [],
   "source": [
    "df['month'] = df['visit_start_time_gmt'].apply(lambda x: x.month)\n",
    "df['week'] = df['visit_start_time_gmt'].apply(lambda x: x.isocalendar()[1])"
   ]
  },
  {
   "cell_type": "code",
   "execution_count": null,
   "metadata": {},
   "outputs": [],
   "source": [
    "# all visitors\n",
    "journey_length = df[['visitor_id', 'visit_start_time_gmt']].groupby(['visitor_id'], as_index=False).agg({'visit_start_time_gmt' : ['first', 'last']})\n",
    "journey_length.columns = ['_'.join(x) for x in journey_length.columns.ravel()]\n",
    "journey_length.rename(columns={'visitor_id_' : 'visitor_id'}, inplace=True)\n",
    "journey_length['delta_first_last_visit'] = journey_length['visit_start_time_gmt_last'] - journey_length['visit_start_time_gmt_first']\n",
    "journey_length['delta_first_last_visit_days'] = journey_length['delta_first_last_visit'].apply(lambda x: x.days)\n",
    "journey_length['delta_first_last_visit_seconds'] = journey_length['delta_first_last_visit'].apply(lambda x: x.seconds)\n",
    "\n",
    "journey_length['journey_length'] = journey_length.apply(lambda x: 1 if (x['delta_first_last_visit_days'] == 0) & (x['delta_first_last_visit_seconds'] != 0) else x['delta_first_last_visit_days'], axis=1)\n",
    "\n",
    "# number of journeys of length > 0 and < 1 day\n",
    "journey_length[(journey_length['delta_first_last_visit_days'] == 0) & (journey_length['delta_first_last_visit_seconds'] != 0)].shape[0]\n",
    "\n",
    "# number of journeys of length 0 (visitors with 1 visit)\n",
    "journey_length[(journey_length['delta_first_last_visit_days'] == 0) & (journey_length['delta_first_last_visit_seconds'] == 0)].shape[0]\n",
    "\n",
    "print('mean: ', journey_length.delta_first_last_visit.mean())\n",
    "print('median: ', journey_length.delta_first_last_visit.median())\n",
    "print('std: ', journey_length.delta_first_last_visit.std())\n",
    "\n",
    "print('number of unique visitors: ', journey_length.visitor_id.nunique())\n",
    "print('number of visitors with 1 visit: ', len(journey_length[journey_length.delta_first_last_visit == 0]['delta_first_last_visit']))\n",
    "print('number of visitors with more than 1 visit: ', journey_length.visitor_id.nunique() - len(journey_length[journey_length.delta_first_last_visit == 0]['delta_first_last_visit']))\n",
    "\n",
    "# buyers\n",
    "buyers = pd.DataFrame(df[df.purchase_within_current_visit != 0]['visitor_id'].unique(), columns=['visitor_id'])\n",
    "journey_length_buyers = pd.merge(journey_length, buyers, how='inner', on='visitor_id')\n",
    "\n",
    "print('mean: ', journey_length_buyers.delta_first_last_visit.mean())\n",
    "print('median: ', journey_length_buyers.delta_first_last_visit.median())\n",
    "print('std: ', journey_length_buyers.delta_first_last_visit.std())\n",
    "\n",
    "print('number of unique visitors: ', journey_length_buyers.visitor_id.nunique())\n",
    "print('number of visitors with 1 visit: ', len(journey_length_buyers[journey_length_buyers.delta_first_last_visit == 0]['delta_first_last_visit']))\n",
    "print('number of visitors with more than 1 visit: ', journey_length_buyers.visitor_id.nunique() - len(journey_length_buyers[journey_length_buyers.delta_first_last_visit == 0]['delta_first_last_visit']))\n",
    "\n",
    "# returning visitors\n",
    "df['visit_num_period'] = df.groupby('visitor_id').cumcount()\n",
    "df['visit_num_period'] = df['visit_num_period'] + 1\n",
    "returning_visitors = pd.DataFrame(df[df.visit_num_period > 1]['visitor_id'].unique(), columns=['visitor_id'])\n",
    "journey_length_returning_visitors = pd.merge(journey_length, returning_visitors, how='inner', on='visitor_id')\n",
    "\n",
    "print('mean: ', journey_length_returning_visitors.delta_first_last_visit.mean())\n",
    "print('median: ', journey_length_returning_visitors.delta_first_last_visit.median())\n",
    "print('std: ', journey_length_returning_visitors.delta_first_last_visit.std())\n",
    "\n",
    "print('number of unique visitors: ', journey_length_returning_visitors.visitor_id.nunique())\n",
    "print('number of visitors with 2 visits: ', len(journey_length_returning_visitors[journey_length_returning_visitors.delta_first_last_visit == 0]['delta_first_last_visit']))\n",
    "print('number of visitors with more than 2 visit: ', journey_length_returning_visitors.visitor_id.nunique() - len(journey_length_returning_visitors[journey_length_returning_visitors.delta_first_last_visit == 0]['delta_first_last_visit']))"
   ]
  },
  {
   "cell_type": "code",
   "execution_count": null,
   "metadata": {},
   "outputs": [],
   "source": [
    "all_visits_per_month = df.groupby(['month']).size().reset_index(name='all_visits')\n",
    "all_visits_per_week = df.groupby(['week']).size().reset_index(name='all_visits')\n",
    "no_bounce_visits_per_month = df[df['hit_count'] > 1].groupby(['month']).size().reset_index(name='no_bounce_visits')\n",
    "no_bounce_visits_per_week = df[df['hit_count'] > 1].groupby(['week']).size().reset_index(name='no_bounce_visits')"
   ]
  },
  {
   "cell_type": "code",
   "execution_count": null,
   "metadata": {},
   "outputs": [],
   "source": [
    "bounces = df[df['hit_count'] == 1]\n",
    "bounces_per_month = bounces.groupby(['month']).size().reset_index(name='bounces_per_month')\n",
    "bounces_per_month\n",
    "bounces_per_week = bounces.groupby(['week']).size().reset_index(name='bounces_per_week')\n",
    "bounces_per_week"
   ]
  },
  {
   "cell_type": "code",
   "execution_count": null,
   "metadata": {},
   "outputs": [],
   "source": [
    "purchases = df[df.purchase_within_current_visit != 0]\n",
    "all_purchases_per_month = purchases.groupby(['month']).size().reset_index(name='all_purchases')\n",
    "all_purchases_per_week = purchases.groupby(['week']).size().reset_index(name='all_purchases')\n",
    "no_bounce_purchases_per_month = purchases[purchases['hit_count'] > 1].groupby(['month']).size().reset_index(name='no_bounce_purchases')\n",
    "no_bounce_purchases_per_week = purchases[purchases['hit_count'] > 1].groupby(['week']).size().reset_index(name='no_bounce_purchases')"
   ]
  },
  {
   "cell_type": "code",
   "execution_count": null,
   "metadata": {},
   "outputs": [],
   "source": [
    "all_page_views_per_month = df.groupby(['month'], as_index=False).agg({'page_view_boolean_sum' : 'sum'})\n",
    "all_page_views_per_week = df.groupby(['week'], as_index=False).agg({'page_view_boolean_sum' : 'sum'})\n",
    "no_bounce_page_views_per_month = df[df['hit_count'] > 1].groupby(['month'], as_index=False).agg({'page_view_boolean_sum' : 'sum'})\n",
    "no_bounce_page_views_per_week = df[df['hit_count'] > 1].groupby(['week'], as_index=False).agg({'page_view_boolean_sum' : 'sum'})\n",
    "all_product_views_per_month = df.groupby(['month'], as_index=False).agg({'product_view_boolean_sum' : 'sum'})\n",
    "all_product_views_per_week = df.groupby(['week'], as_index=False).agg({'product_view_boolean_sum' : 'sum'})\n",
    "no_bounce_product_views_per_month = df[df['hit_count'] > 1].groupby(['month'], as_index=False).agg({'product_view_boolean_sum' : 'sum'})\n",
    "no_bounce_product_views_per_week = df[df['hit_count'] > 1].groupby(['week'], as_index=False).agg({'product_view_boolean_sum' : 'sum'})"
   ]
  },
  {
   "cell_type": "code",
   "execution_count": null,
   "metadata": {},
   "outputs": [],
   "source": [
    "# bin with journey length == 1 includes 189190 journeys of length > 0 and < 1 day (3461328 journeys of length 0)\n",
    "plt.figure(figsize=(12,6))\n",
    "plt.hist(journey_length[journey_length.journey_length > 0]['journey_length'], bins=50)\n",
    "plt.title('journey_length')\n",
    "\n",
    "plt.savefig('journey_length.png')"
   ]
  },
  {
   "cell_type": "code",
   "execution_count": null,
   "metadata": {},
   "outputs": [],
   "source": [
    "plt.figure(figsize=(10,10))\n",
    "\n",
    "plt.subplot(4,2,1)\n",
    "plt.plot(all_visits_per_month.month, all_visits_per_month.all_visits)\n",
    "plt.plot(no_bounce_visits_per_month.month, no_bounce_visits_per_month.no_bounce_visits)\n",
    "plt.title('visits_and_bounces_per_month')\n",
    "plt.ylabel('number')\n",
    "plt.xlabel('month')\n",
    "blue = mpatches.Patch(color='blue', label='all')\n",
    "orange = mpatches.Patch(color='orange', label='no_bounce')\n",
    "plt.legend(handles=[blue, orange], loc='upper center')\n",
    "\n",
    "plt.subplot(4,2,2)\n",
    "plt.plot(all_visits_per_week.week, all_visits_per_week.all_visits)\n",
    "plt.plot(no_bounce_visits_per_week.week, no_bounce_visits_per_week.no_bounce_visits)\n",
    "plt.title('visits_and_bounces_per_week')\n",
    "plt.ylabel('number')\n",
    "plt.xlabel('week')\n",
    "blue = mpatches.Patch(color='blue', label='all')\n",
    "orange = mpatches.Patch(color='orange', label='no_bounce')\n",
    "plt.legend(handles=[blue, orange], loc='upper center')\n",
    "\n",
    "plt.subplot(4,2,3)\n",
    "plt.plot(all_purchases_per_month.month, all_purchases_per_month.all_purchases)\n",
    "plt.plot(no_bounce_purchases_per_month.month, no_bounce_purchases_per_month.no_bounce_purchases)\n",
    "plt.title('purchases_per_month')\n",
    "plt.ylabel('number')\n",
    "plt.xlabel('month')\n",
    "blue = mpatches.Patch(color='blue', label='all')\n",
    "orange = mpatches.Patch(color='orange', label='no_bounce')\n",
    "plt.legend(handles=[blue, orange], loc='upper center')\n",
    "\n",
    "plt.subplot(4,2,4)\n",
    "plt.plot(all_purchases_per_week.week, all_purchases_per_week.all_purchases)\n",
    "plt.plot(no_bounce_purchases_per_week.week, no_bounce_purchases_per_week.no_bounce_purchases)\n",
    "plt.title('purchases_per_week')\n",
    "plt.ylabel('number')\n",
    "plt.xlabel('week')\n",
    "blue = mpatches.Patch(color='blue', label='all')\n",
    "orange = mpatches.Patch(color='orange', label='no_bounce')\n",
    "plt.legend(handles=[blue, orange], loc='upper center')\n",
    "\n",
    "plt.subplot(4,2,5)\n",
    "plt.plot(all_page_views_per_month.month, all_page_views_per_month.page_view_boolean_sum)\n",
    "plt.plot(no_bounce_page_views_per_month.month, no_bounce_page_views_per_month.page_view_boolean_sum)\n",
    "plt.title('page_views_per_month')\n",
    "plt.ylabel('number')\n",
    "plt.xlabel('month')\n",
    "blue = mpatches.Patch(color='blue', label='all')\n",
    "orange = mpatches.Patch(color='orange', label='no_bounce')\n",
    "plt.legend(handles=[blue, orange], loc='upper center')\n",
    "\n",
    "plt.subplot(4,2,6)\n",
    "plt.plot(all_page_views_per_week.week, all_page_views_per_week.page_view_boolean_sum)\n",
    "plt.plot(no_bounce_page_views_per_week.week, no_bounce_page_views_per_week.page_view_boolean_sum)\n",
    "plt.title('page_views_per_week')\n",
    "plt.ylabel('number')\n",
    "plt.xlabel('week')\n",
    "blue = mpatches.Patch(color='blue', label='all')\n",
    "orange = mpatches.Patch(color='orange', label='no_bounce')\n",
    "plt.legend(handles=[blue, orange], loc='upper center')\n",
    "\n",
    "plt.subplot(4,2,7)\n",
    "plt.plot(all_product_views_per_month.month, all_product_views_per_month.product_view_boolean_sum)\n",
    "plt.plot(no_bounce_product_views_per_month.month, no_bounce_product_views_per_month.product_view_boolean_sum)\n",
    "plt.title('product_views_per_month')\n",
    "plt.ylabel('number')\n",
    "plt.xlabel('month')\n",
    "blue = mpatches.Patch(color='blue', label='all')\n",
    "orange = mpatches.Patch(color='orange', label='no_bounce')\n",
    "plt.legend(handles=[blue, orange], loc='upper center')\n",
    "\n",
    "plt.subplot(4,2,8)\n",
    "plt.plot(all_product_views_per_week.week, all_product_views_per_week.product_view_boolean_sum)\n",
    "plt.plot(no_bounce_product_views_per_week.week, no_bounce_product_views_per_week.product_view_boolean_sum)\n",
    "plt.title('product_views_per_week')\n",
    "plt.ylabel('number')\n",
    "plt.xlabel('week')\n",
    "blue = mpatches.Patch(color='blue', label='all')\n",
    "orange = mpatches.Patch(color='orange', label='no_bounce')\n",
    "plt.legend(handles=[blue, orange], loc='upper center')\n",
    "\n",
    "plt.tight_layout()\n",
    "plt.savefig('all_and_no_bounce_visits_purchases_page_and_product_views_per_month_and_week.png')"
   ]
  },
  {
   "cell_type": "markdown",
   "metadata": {},
   "source": [
    "## 6. Evaluation"
   ]
  },
  {
   "cell_type": "markdown",
   "metadata": {},
   "source": [
    "### 6.1. Predictive Accuracy"
   ]
  },
  {
   "cell_type": "code",
   "execution_count": null,
   "metadata": {},
   "outputs": [],
   "source": [
    "lr24 = pd.read_pickle('../results/models/model_performance_LR_100000_purchase_within_next_24_hours.pkl.gz')\n",
    "dt24 = pd.read_pickle('../results/models/model_performance_DT_100000_purchase_within_next_24_hours.pkl.gz')\n",
    "nb24 = pd.read_pickle('../results/models/model_performance_NB_100000_purchase_within_next_24_hours.pkl.gz')\n",
    "knn24 = pd.read_pickle('../results/models/model_performance_KNN_100000_purchase_within_next_24_hours.pkl.gz')\n",
    "rf24 = pd.read_pickle('../results/models/model_performance_RF_100000_purchase_within_next_24_hours.pkl.gz')\n",
    "svm24 = pd.read_pickle('../results/models/model_performance_SVM_100000_purchase_within_next_24_hours.pkl.gz')\n",
    "boost24 = pd.read_pickle('../results/models/model_performance_BOOST_100000_purchase_within_next_24_hours.pkl.gz')\n",
    "bag24 = pd.read_pickle('../results/models/model_performance_BAG_100000_purchase_within_next_24_hours.pkl.gz')\n",
    "nn124 = pd.read_pickle('../results/models/model_performance_NN1_100000_purchase_within_next_24_hours.pkl.gz')\n",
    "nn324 = pd.read_pickle('../results/models/model_performance_NN3_100000_purchase_within_next_24_hours.pkl.gz')\n",
    "nn524 = pd.read_pickle('../results/models/model_performance_NN5_100000_purchase_within_next_24_hours.pkl.gz')\n",
    "rnn24 = pd.read_pickle('../results/models/model_performance_RNN_100000_purchase_within_next_24_hours.pkl.gz')\n",
    "lstm24 = pd.read_pickle('../results/models/model_performance_LSTM_100000_purchase_within_next_24_hours.pkl.gz')"
   ]
  },
  {
   "cell_type": "code",
   "execution_count": null,
   "metadata": {},
   "outputs": [],
   "source": [
    "perf24 = lr24\n",
    "for df in [dt24, nb24, knn24, rf24, svm24, boost24, bag24, nn124, nn324, nn524, rnn24, lstm24]:\n",
    "    perf24 = perf24.append(df)"
   ]
  },
  {
   "cell_type": "code",
   "execution_count": null,
   "metadata": {},
   "outputs": [],
   "source": [
    "print('training_set_size: ', perf24['training_set_size'][0])\n",
    "print('test_set_size: ', perf24['test_set_size'][0])\n",
    "print('target: ', perf24['target'][0])\n",
    "print('features: ', perf24['features'][0])"
   ]
  },
  {
   "cell_type": "code",
   "execution_count": null,
   "metadata": {},
   "outputs": [],
   "source": [
    "perf24.drop(['features', 'training_set_size', 'test_set_size', 'target'], axis=1)"
   ]
  },
  {
   "cell_type": "code",
   "execution_count": null,
   "metadata": {},
   "outputs": [],
   "source": [
    "lr7 = pd.read_pickle('../results/models/model_performance_LR_100000_purchase_within_next_7_days.pkl.gz')\n",
    "dt7 = pd.read_pickle('../results/models/model_performance_DT_100000_purchase_within_next_7_days.pkl.gz')\n",
    "nb7 = pd.read_pickle('../results/models/model_performance_NB_100000_purchase_within_next_7_days.pkl.gz')\n",
    "knn7 = pd.read_pickle('../results/models/model_performance_KNN_100000_purchase_within_next_7_days.pkl.gz')\n",
    "rf7 = pd.read_pickle('../results/models/model_performance_RF_100000_purchase_within_next_7_days.pkl.gz')\n",
    "svm7 = pd.read_pickle('../results/models/model_performance_SVM_100000_purchase_within_next_7_days.pkl.gz')\n",
    "boost7 = pd.read_pickle('../results/models/model_performance_BOOST_100000_purchase_within_next_7_days.pkl.gz')\n",
    "bag7 = pd.read_pickle('../results/models/model_performance_BAG_100000_purchase_within_next_7_days.pkl.gz')\n",
    "nn17 = pd.read_pickle('../results/models/model_performance_NN1_100000_purchase_within_next_7_days.pkl.gz')\n",
    "nn37 = pd.read_pickle('../results/models/model_performance_NN3_100000_purchase_within_next_7_days.pkl.gz')\n",
    "nn57 = pd.read_pickle('../results/models/model_performance_NN5_100000_purchase_within_next_7_days.pkl.gz')\n",
    "rnn7 = pd.read_pickle('../results/models/model_performance_RNN_100000_purchase_within_next_7_days.pkl.gz')\n",
    "lstm7 = pd.read_pickle('../results/models/model_performance_LSTM_100000_purchase_within_next_7_days.pkl.gz')"
   ]
  },
  {
   "cell_type": "code",
   "execution_count": null,
   "metadata": {},
   "outputs": [],
   "source": [
    "perf7 = lr7\n",
    "for df in [dt7, nb7, knn7, rf7, svm7, boost7, bag7, nn17, nn37, nn57, rnn7, lstm7]:\n",
    "    perf7 = perf7.append(df)"
   ]
  },
  {
   "cell_type": "code",
   "execution_count": null,
   "metadata": {},
   "outputs": [],
   "source": [
    "print('training_set_size: ', perf7['training_set_size'][0])\n",
    "print('test_set_size: ', perf7['test_set_size'][0])\n",
    "print('target: ', perf7['target'][0])\n",
    "print('features: ', perf7['features'][0])"
   ]
  },
  {
   "cell_type": "code",
   "execution_count": null,
   "metadata": {},
   "outputs": [],
   "source": [
    "perf7.drop(['features', 'training_set_size', 'test_set_size', 'target'], axis=1)"
   ]
  },
  {
   "cell_type": "markdown",
   "metadata": {},
   "source": [
    "### 6.3. Robustness"
   ]
  },
  {
   "cell_type": "markdown",
   "metadata": {},
   "source": [
    "### 6.4. Interpretability"
   ]
  },
  {
   "cell_type": "code",
   "execution_count": null,
   "metadata": {},
   "outputs": [],
   "source": [
    "y_train_24_100k = train['purchase_within_next_24_hours']\n",
    "y_train_7_100k = train['purchase_within_next_7_days']\n",
    "X_train_100k = train.drop(['visitor_id', 'visit_start_time_gmt', 'purchase_within_next_24_hours', 'purchase_within_next_7_days'], axis=1)"
   ]
  },
  {
   "cell_type": "code",
   "execution_count": null,
   "metadata": {},
   "outputs": [],
   "source": [
    "selector_24_100k = SelectKBest(f_classif, k='all')\n",
    "X_k_best_24_100k = selector_24_100k.fit_transform(X_train_100k, y_train_24_100k)\n",
    "features_24_100k = X_train_100k.columns.values[selector_24_100k.get_support()]\n",
    "scores_24_100k = selector_24_100k.scores_[selector_24_100k.get_support()]\n",
    "p_values_24_100k = selector_24_100k.pvalues_[selector_24_100k.get_support()]\n",
    "k_best_df_24_100k = pd.DataFrame({'features': features_24_100k,\n",
    "                          'scores_24': scores_24_100k,\n",
    "                          'p_values_24': p_values_24_100k})\n",
    "k_best_df_24_100k.sort_values('scores_24', ascending=False, inplace=True)\n",
    "k_best_df_24_100k['rank_24'] = range(k_best_df_24_100k.shape[0])\n",
    "k_best_df_24_100k['rank_24'] = k_best_df_24_100k['rank_24'].apply(lambda x: x+1)\n",
    "k_best_df_24_100k.to_pickle('../results/descriptives/k_best_features_24_100k.pkl.gz', compression='gzip')\n",
    "k_best_df_24_100k"
   ]
  },
  {
   "cell_type": "code",
   "execution_count": null,
   "metadata": {},
   "outputs": [],
   "source": [
    "selector_7_100k = SelectKBest(f_classif, k='all')\n",
    "X_k_best_7_100k = selector_7_100k.fit_transform(X_train_100k, y_train_7_100k)\n",
    "features_7_100k = X_train_100k.columns.values[selector_7_100k.get_support()]\n",
    "scores_7_100k = selector_7_100k.scores_[selector_7_100k.get_support()]\n",
    "p_values_7_100k = selector_7_100k.pvalues_[selector_7_100k.get_support()]\n",
    "k_best_df_7_100k = pd.DataFrame({'features': features_7_100k,\n",
    "                          'scores_7': scores_7_100k,\n",
    "                          'p_values_7': p_values_7_100k})\n",
    "k_best_df_7_100k.sort_values('scores_7', ascending=False, inplace=True)\n",
    "k_best_df_7_100k['rank_7'] = range(k_best_df_7_100k.shape[0])\n",
    "k_best_df_7_100k['rank_7'] = k_best_df_7_100k['rank_7'].apply(lambda x: x+1)\n",
    "k_best_df_7_100k.to_pickle('../results/descriptives/k_best_features_7_100k.pkl.gz', compression='gzip')\n",
    "k_best_df_7_100k"
   ]
  },
  {
   "cell_type": "code",
   "execution_count": null,
   "metadata": {},
   "outputs": [],
   "source": [
    "k_best_100k = pd.merge(k_best_df_24_100k, k_best_df_7_100k, how='inner', on='features')\n",
    "k_best_100k"
   ]
  },
  {
   "cell_type": "code",
   "execution_count": null,
   "metadata": {},
   "outputs": [],
   "source": [
    "k_best_features = list(k_best_100k[(k_best_100k['p_values_24'] <= 0.01) & (k_best_100k['p_values_7'] <= 0.01)]['features'])\n",
    "len(k_best_features)"
   ]
  },
  {
   "cell_type": "code",
   "execution_count": null,
   "metadata": {},
   "outputs": [],
   "source": [
    "dt24fi = pd.read_pickle('../results/models/feature_importances_DT_100000_purchase_within_next_24_hours.pkl.gz')\n",
    "rf24fi = pd.read_pickle('../results/models/feature_importances_RF_100000_purchase_within_next_24_hours.pkl.gz')\n",
    "boost24fi = pd.read_pickle('../results/models/feature_importances_BOOST_100000_purchase_within_next_24_hours.pkl.gz')"
   ]
  },
  {
   "cell_type": "code",
   "execution_count": null,
   "metadata": {},
   "outputs": [],
   "source": [
    "dt24fi.sort_values('feature_importances', ascending=False).head(20)"
   ]
  },
  {
   "cell_type": "code",
   "execution_count": null,
   "metadata": {},
   "outputs": [],
   "source": [
    "rf24fi.sort_values('feature_importances', ascending=False).head(20)"
   ]
  },
  {
   "cell_type": "code",
   "execution_count": null,
   "metadata": {},
   "outputs": [],
   "source": [
    "boost24fi.sort_values('feature_importances', ascending=False).head(20)"
   ]
  },
  {
   "cell_type": "code",
   "execution_count": null,
   "metadata": {},
   "outputs": [],
   "source": [
    "dt7fi = pd.read_pickle('../results/models/feature_importances_DT_100000_purchase_within_next_7_days.pkl.gz')\n",
    "rf7fi = pd.read_pickle('../results/models/feature_importances_RF_100000_purchase_within_next_7_days.pkl.gz')\n",
    "boost7fi = pd.read_pickle('../results/models/feature_importances_BOOST_100000_purchase_within_next_7_days.pkl.gz')"
   ]
  },
  {
   "cell_type": "code",
   "execution_count": null,
   "metadata": {},
   "outputs": [],
   "source": [
    "dt7fi.sort_values('feature_importances', ascending=False).head(20)"
   ]
  },
  {
   "cell_type": "code",
   "execution_count": null,
   "metadata": {},
   "outputs": [],
   "source": [
    "rf7fi.sort_values('feature_importances', ascending=False).head(20)"
   ]
  },
  {
   "cell_type": "code",
   "execution_count": null,
   "metadata": {},
   "outputs": [],
   "source": [
    "boost7fi.sort_values('feature_importances', ascending=False).head(20)"
   ]
  },
  {
   "cell_type": "markdown",
   "metadata": {},
   "source": [
    "### 6.6. Algorithmic Efficiency"
   ]
  }
 ],
 "metadata": {
  "kernelspec": {
   "display_name": "Python 3",
   "language": "python",
   "name": "python3"
  },
  "language_info": {
   "codemirror_mode": {
    "name": "ipython",
    "version": 3
   },
   "file_extension": ".py",
   "mimetype": "text/x-python",
   "name": "python",
   "nbconvert_exporter": "python",
   "pygments_lexer": "ipython3",
   "version": "3.6.8"
  }
 },
 "nbformat": 4,
 "nbformat_minor": 1
}
